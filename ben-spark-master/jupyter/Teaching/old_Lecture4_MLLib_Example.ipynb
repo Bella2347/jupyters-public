{
 "cells": [
  {
   "cell_type": "code",
   "execution_count": null,
   "metadata": {},
   "outputs": [],
   "source": [
    ">>> from pyspark.mllib.regression import LabeledPoint\n",
    ">>> from pyspark.mllib.tree import DecisionTree\n",
    ">>> from pyspark.mllib.linalg import SparseVector\n",
    ">>>\n",
    ">>> sparse_data = [\n",
    "...     LabeledPoint(0.0, SparseVector(2, {0: 0.0})),\n",
    "...     LabeledPoint(1.0, SparseVector(2, {1: 1.0})),\n",
    "...     LabeledPoint(0.0, SparseVector(2, {0: 0.0})),\n",
    "...     LabeledPoint(1.0, SparseVector(2, {1: 2.0}))\n",
    "... ]\n",
    ">>>\n",
    ">>> model = DecisionTree.trainRegressor(sc.parallelize(sparse_data), {})\n",
    ">>> model.predict(SparseVector(2, {1: 1.0}))\n",
    "1.0\n",
    ">>> model.predict(SparseVector(2, {1: 0.0}))\n",
    "0.0\n",
    ">>> rdd = sc.parallelize([[0.0, 1.0], [0.0, 0.0]])\n",
    ">>> model.predict(rdd).collect()"
   ]
  }
 ],
 "metadata": {
  "kernelspec": {
   "display_name": "Python 3",
   "language": "python",
   "name": "python3"
  },
  "language_info": {
   "codemirror_mode": {
    "name": "ipython",
    "version": 3
   },
   "file_extension": ".py",
   "mimetype": "text/x-python",
   "name": "python",
   "nbconvert_exporter": "python",
   "pygments_lexer": "ipython3",
   "version": "3.5.2"
  }
 },
 "nbformat": 4,
 "nbformat_minor": 2
}
