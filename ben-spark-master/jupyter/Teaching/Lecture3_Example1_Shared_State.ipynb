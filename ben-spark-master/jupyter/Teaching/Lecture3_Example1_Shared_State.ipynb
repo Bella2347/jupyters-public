{
 "cells": [
  {
   "cell_type": "code",
   "execution_count": 13,
   "metadata": {},
   "outputs": [],
   "source": [
    "from pyspark.sql import SparkSession\n",
    "\n",
    "# (8 cores, 16gb per machine) x 5 = 40 cores\n",
    "\n",
    "# New API\n",
    "spark_session = SparkSession\\\n",
    "        .builder\\\n",
    "        .master(\"spark://ben-spark-master:7077\") \\\n",
    "        .appName(\"shared_variables\")\\\n",
    "        .config('spark.executor.cores', 2)\\\n",
    "        .getOrCreate()\n",
    "\n",
    "# Old API (RDD)\n",
    "\n",
    "spark_context = spark_session.sparkContext\n",
    "\n",
    "# Immutable data for all workers\n",
    "broadcast_variable = spark_context.broadcast({'apples': 100, 'oranges': 42, 'pears': 1})"
   ]
  },
  {
   "cell_type": "code",
   "execution_count": 14,
   "metadata": {},
   "outputs": [
    {
     "name": "stdout",
     "output_type": "stream",
     "text": [
      "[100, 1]\n"
     ]
    }
   ],
   "source": [
    "\n",
    "rdd = spark_context.parallelize(['apples', 'pears'])\n",
    "\n",
    "# Convert fruit to amounts of fruit.\n",
    "# 'value' is captured in the closure, but its only a handle - the dictionary won't be serialized\n",
    "result = rdd.map(lambda x: broadcast_variable.value[x])\\\n",
    "            .collect()\n",
    "\n",
    "print(result)\n",
    "\n",
    "#See: http://spark.apache.org/docs/2.3.0/api/python/pyspark.html"
   ]
  },
  {
   "cell_type": "code",
   "execution_count": 16,
   "metadata": {},
   "outputs": [
    {
     "name": "stdout",
     "output_type": "stream",
     "text": [
      "6\n"
     ]
    }
   ],
   "source": [
    "accumulator_1 = spark_context.accumulator(0)\n",
    "\n",
    "rdd2 = spark_context.parallelize([1,2,3,4,5,6],2)\n",
    "\n",
    "result = rdd2.foreach(lambda x: accumulator_1.add(1))\n",
    "\n",
    "print(accumulator_1.value)"
   ]
  },
  {
   "cell_type": "code",
   "execution_count": 12,
   "metadata": {},
   "outputs": [],
   "source": [
    "# release the cores for another application!\n",
    "spark_context.stop()"
   ]
  },
  {
   "cell_type": "code",
   "execution_count": null,
   "metadata": {},
   "outputs": [],
   "source": []
  }
 ],
 "metadata": {
  "kernelspec": {
   "display_name": "Python 3",
   "language": "python",
   "name": "python3"
  },
  "language_info": {
   "codemirror_mode": {
    "name": "ipython",
    "version": 3
   },
   "file_extension": ".py",
   "mimetype": "text/x-python",
   "name": "python",
   "nbconvert_exporter": "python",
   "pygments_lexer": "ipython3",
   "version": "3.5.2"
  }
 },
 "nbformat": 4,
 "nbformat_minor": 2
}
