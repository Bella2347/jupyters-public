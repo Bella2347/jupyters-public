{
 "cells": [
  {
   "cell_type": "code",
   "execution_count": 4,
   "metadata": {},
   "outputs": [],
   "source": [
    "from pprint import pprint\n",
    "from pyspark.sql import SparkSession\n",
    "\n",
    "# New API\n",
    "spark_session = SparkSession\\\n",
    "        .builder\\\n",
    "        .master(\"spark://ben-spark-master:7077\") \\\n",
    "        .appName(\"read_weather_data\")\\\n",
    "        .getOrCreate()\n",
    "\n",
    "# Old API (RDD)\n",
    "spark_context = spark_session.sparkContext\n",
    "\n",
    "data_frame = spark_session.read\\\n",
    "    .option(\"header\", \"true\")\\\n",
    "    .csv('/mnt/nfs/ben-spark-master/teaching/noaa/global-hourly/access/1950/*.csv')\\\n",
    "    .cache()"
   ]
  },
  {
   "cell_type": "code",
   "execution_count": 46,
   "metadata": {},
   "outputs": [
    {
     "name": "stdout",
     "output_type": "stream",
     "text": [
      "http://ben-spark-master:4040\n"
     ]
    }
   ],
   "source": [
    "spark_context.uiWebUrl"
   ]
  },
  {
   "cell_type": "code",
   "execution_count": 5,
   "metadata": {},
   "outputs": [
    {
     "data": {
      "text/plain": [
       "8671273"
      ]
     },
     "execution_count": 5,
     "metadata": {},
     "output_type": "execute_result"
    }
   ],
   "source": [
    "# Count the files:\n",
    "#$ find -type f | wc -l\n",
    "# 2546\n",
    "\n",
    "# Count the lines in 1 file:\n",
    "# $cat 10224099999.csv | wc -l\n",
    "# 8756\n",
    "\n",
    "# Count the CSV rows:\n",
    "data_frame.count()"
   ]
  },
  {
   "cell_type": "code",
   "execution_count": 6,
   "metadata": {},
   "outputs": [
    {
     "name": "stdout",
     "output_type": "stream",
     "text": [
      "+-----------+-------------------+------+---------+---------+---------+-------------+-----------+---------+---------------+--------------+-----------+------------+-------+-------+-------+-----------+--------+------------------+----+----+--------------------+----+----+----+----------------+----+----+--------------------+\n",
      "|    STATION|               DATE|SOURCE| LATITUDE|LONGITUDE|ELEVATION|         NAME|REPORT_TYPE|CALL_SIGN|QUALITY_CONTROL|           WND|        CIG|         VIS|    TMP|    DEW|    SLP|        AA1|     AY1|               GA1| GA2| GA3|                 GF1| IA1| KA1| KA2|             MD1| MW1| MW2|                 EQD|\n",
      "+-----------+-------------------+------+---------+---------+---------+-------------+-----------+---------+---------------+--------------+-----------+------------+-------+-------+-------+-----------+--------+------------------+----+----+--------------------+----+----+----+----------------+----+----+--------------------+\n",
      "|03135099999|1950-01-01T00:00:00|     4|55.509444|-4.586667|    19.81|PRESTWICK, UK|      FM-12|    99999|           V020|130,1,N,0026,1|22000,1,C,N|006000,1,N,9|+0033,1|+0028,1|10263,1|       null|1,1,99,9|              null|null|null|05,99,1,99,9,00,1...|null|null|null|2,1,006,1,+999,9|02,1|null|    Q01+000002SCOTLC|\n",
      "|03135099999|1950-01-01T00:00:00|     4|55.509444|-4.586667|    19.81|PRESTWICK, UK|      SAO  |    EGPK |           V020|135,1,N,0026,1|21000,1,9,N|006400,1,N,1|+0035,1|+0030,1|10263,1|       null|    null|              null|null|null|07,99,1,99,9,99,9...|null|null|null|            null|00,1|null|                null|\n",
      "|03135099999|1950-01-01T01:00:00|     4|55.509444|-4.586667|    19.81|PRESTWICK, UK|      FM-12|    99999|           V020|180,1,N,0036,1|99999,9,9,N|008000,1,N,9|+0050,1|+0039,1|10266,1|       null|2,1,99,9|              null|null|null|06,99,1,04,1,05,1...|null|null|null|2,1,007,1,+999,9|02,1|null|                null|\n",
      "|03135099999|1950-01-01T01:00:00|     4|55.509444|-4.586667|    19.81|PRESTWICK, UK|      SAO  |    EGPK |           V020|180,1,N,0036,1|99999,9,9,N|008000,1,N,1|+0052,1|+0041,1|10266,1|       null|    null|              null|null|null|                null|null|null|null|            null|00,1|null|                null|\n",
      "|03135099999|1950-01-01T02:00:00|     4|55.509444|-4.586667|    19.81|PRESTWICK, UK|      FM-12|    99999|           V020|140,1,N,0021,1|99999,9,9,N|009000,1,N,9|+0056,1|+0039,1|10266,1|       null|2,1,99,9|              null|null|null|06,99,1,04,1,05,1...|null|null|null|1,1,004,1,+999,9|02,1|null|                null|\n",
      "|03135099999|1950-01-01T02:00:00|     4|55.509444|-4.586667|    19.81|PRESTWICK, UK|      SAO  |    EGPK |           V020|135,1,N,0021,1|99999,9,9,N|009600,1,N,1|+0058,1|+0041,1|10266,1|       null|    null|              null|null|null|                null|null|null|null|            null|00,1|null|                null|\n",
      "|03135099999|1950-01-01T03:00:00|     4|55.509444|-4.586667|    19.81|PRESTWICK, UK|      FM-12|    99999|           V020|170,1,N,0026,1|99999,9,9,N|009000,1,N,9|+0061,1|+0050,1|10268,1|       null|2,1,99,9|              null|null|null|06,99,1,04,1,05,1...|null|null|null|1,1,005,1,+999,9|02,1|null|                null|\n",
      "|03135099999|1950-01-01T03:00:00|     4|55.509444|-4.586667|    19.81|PRESTWICK, UK|      SAO  |    EGPK |           V020|180,1,N,0026,1|99999,9,9,N|009600,1,N,1|+0063,1|+0052,1|10268,1|       null|    null|              null|null|null|                null|null|null|null|            null|00,1|null|                null|\n",
      "|03135099999|1950-01-01T04:00:00|     4|55.509444|-4.586667|    19.81|PRESTWICK, UK|      FM-12|    99999|           V020|170,1,N,0026,1|99999,9,9,N|009000,1,N,9|+0067,1|+0044,1|10264,1|       null|2,1,99,9|              null|null|null|05,99,1,03,1,05,1...|null|null|null|9,9,002,1,+999,9|01,1|null|                null|\n",
      "|03135099999|1950-01-01T04:00:00|     4|55.509444|-4.586667|    19.81|PRESTWICK, UK|      SAO  |    EGPK |           V020|180,1,N,0026,1|99999,9,9,N|009600,1,N,1|+0069,1|+0046,1|10264,1|       null|    null|              null|null|null|                null|null|null|null|            null|00,1|null|                null|\n",
      "|03135099999|1950-01-01T05:00:00|     4|55.509444|-4.586667|    19.81|PRESTWICK, UK|      FM-12|    99999|           V020|180,1,N,0057,1|99999,9,9,N|009000,1,N,9|+0072,1|+0050,1|10259,1|       null|2,1,99,9|              null|null|null|05,99,1,03,1,05,1...|null|null|null|9,9,007,1,+999,9|02,1|null|                null|\n",
      "|03135099999|1950-01-01T05:00:00|     4|55.509444|-4.586667|    19.81|PRESTWICK, UK|      SAO  |    EGPK |           V020|180,1,N,0057,1|99999,9,9,N|009600,1,N,1|+0074,1|+0052,1|10259,1|       null|    null|              null|null|null|                null|null|null|null|            null|00,1|null|                null|\n",
      "|03135099999|1950-01-01T06:00:00|     4|55.509444|-4.586667|    19.81|PRESTWICK, UK|      FM-12|    99999|           V020|190,1,N,0057,1|99999,9,9,N|011000,1,N,9|+0072,1|+0044,1|10253,1|       null|2,1,99,9|              null|null|null|06,99,1,03,1,05,1...|08,9|null|null|7,1,015,1,+999,9|02,1|null|                null|\n",
      "|03135099999|1950-01-01T06:00:00|     4|55.509444|-4.586667|    19.81|PRESTWICK, UK|      SAO  |    EGPK |           V020|180,1,N,0057,1|99999,9,9,N|011200,1,N,1|+0074,1|+0046,1|10253,1|       null|    null|              null|null|null|                null|null|null|null|            null|00,1|null|                null|\n",
      "|03135099999|1950-01-01T07:00:00|     4|55.509444|-4.586667|    19.81|PRESTWICK, UK|      FM-12|    99999|           V020|200,1,N,0057,1|01230,1,C,N|011000,1,N,9|+0078,1|+0044,1|10246,1|       null|2,1,99,9|              null|null|null|08,99,1,08,1,05,1...|null|null|null|7,1,018,1,+999,9|03,1|null|                null|\n",
      "|03135099999|1950-01-01T07:00:00|     4|55.509444|-4.586667|    19.81|PRESTWICK, UK|      SAO  |    EGPK |           V020|203,1,N,0057,1|01200,1,9,N|011200,1,N,1|+0080,1|+0046,1|10246,1|       null|    null|08,1,+01200,9,05,9|null|null|08,99,1,99,9,99,9...|null|null|null|            null|00,1|null|                null|\n",
      "|03135099999|1950-01-01T08:00:00|     4|55.509444|-4.586667|    19.81|PRESTWICK, UK|      FM-12|    99999|           V020|200,1,N,0057,1|01230,1,C,N|016000,1,N,9|+0078,1|+0050,1|10247,1|       null|2,1,99,9|              null|null|null|07,99,1,07,1,05,1...|null|null|null|5,1,012,1,+999,9|60,1|null|                null|\n",
      "|03135099999|1950-01-01T08:00:00|     4|55.509444|-4.586667|    19.81|PRESTWICK, UK|      SAO  |    EGPK |           V020|203,1,N,0057,1|01200,1,9,N|016000,1,N,1|+0080,1|+0052,1|10247,1|       null|    null|              null|null|null|                null|null|null|null|            null|61,1|null|                null|\n",
      "|03135099999|1950-01-01T09:00:00|     4|55.509444|-4.586667|    19.81|PRESTWICK, UK|      FM-12|    99999|           V020|200,1,N,0051,1|01230,1,C,N|012000,1,N,9|+0078,1|+0056,1|10254,1|99,0006,9,1|6,1,99,9|              null|null|null|08,99,1,07,1,05,1...|null|null|null|2,1,001,1,+999,9|60,1|null|Q01+000042APCTENQ...|\n",
      "|03135099999|1950-01-01T09:00:00|     4|55.509444|-4.586667|    19.81|PRESTWICK, UK|      SAO  |    EGPK |           V020|203,1,N,0051,1|01200,1,9,N|011200,1,N,1|+0080,1|+0058,1|10254,1|       null|    null|07,1,+01200,9,05,9|null|null|08,99,1,99,9,99,9...|null|null|null|            null|61,1|null|                null|\n",
      "+-----------+-------------------+------+---------+---------+---------+-------------+-----------+---------+---------------+--------------+-----------+------------+-------+-------+-------+-----------+--------+------------------+----+----+--------------------+----+----+----+----------------+----+----+--------------------+\n",
      "only showing top 20 rows\n",
      "\n"
     ]
    }
   ],
   "source": [
    "data_frame.show()"
   ]
  },
  {
   "cell_type": "code",
   "execution_count": 48,
   "metadata": {},
   "outputs": [
    {
     "name": "stdout",
     "output_type": "stream",
     "text": [
      "root\n",
      " |-- STATION: string (nullable = true)\n",
      " |-- DATE: string (nullable = true)\n",
      " |-- SOURCE: string (nullable = true)\n",
      " |-- LATITUDE: string (nullable = true)\n",
      " |-- LONGITUDE: string (nullable = true)\n",
      " |-- ELEVATION: string (nullable = true)\n",
      " |-- NAME: string (nullable = true)\n",
      " |-- REPORT_TYPE: string (nullable = true)\n",
      " |-- CALL_SIGN: string (nullable = true)\n",
      " |-- QUALITY_CONTROL: string (nullable = true)\n",
      " |-- WND: string (nullable = true)\n",
      " |-- CIG: string (nullable = true)\n",
      " |-- VIS: string (nullable = true)\n",
      " |-- TMP: string (nullable = true)\n",
      " |-- DEW: string (nullable = true)\n",
      " |-- SLP: string (nullable = true)\n",
      " |-- AA1: string (nullable = true)\n",
      " |-- AY1: string (nullable = true)\n",
      " |-- GA1: string (nullable = true)\n",
      " |-- GA2: string (nullable = true)\n",
      " |-- GA3: string (nullable = true)\n",
      " |-- GF1: string (nullable = true)\n",
      " |-- IA1: string (nullable = true)\n",
      " |-- KA1: string (nullable = true)\n",
      " |-- KA2: string (nullable = true)\n",
      " |-- MD1: string (nullable = true)\n",
      " |-- MW1: string (nullable = true)\n",
      " |-- MW2: string (nullable = true)\n",
      " |-- EQD: string (nullable = true)\n",
      "\n"
     ]
    }
   ],
   "source": [
    "data_frame.printSchema()"
   ]
  },
  {
   "cell_type": "code",
   "execution_count": 49,
   "metadata": {},
   "outputs": [
    {
     "data": {
      "text/plain": [
       "[Row(STATION='03135099999', DATE='1950-01-01T00:00:00', SOURCE='4', LATITUDE='55.509444', LONGITUDE='-4.586667', ELEVATION='19.81', NAME='PRESTWICK, UK', REPORT_TYPE='FM-12', CALL_SIGN='99999', QUALITY_CONTROL='V020', WND='130,1,N,0026,1', CIG='22000,1,C,N', VIS='006000,1,N,9', TMP='+0033,1', DEW='+0028,1', SLP='10263,1', AA1=None, AY1='1,1,99,9', GA1=None, GA2=None, GA3=None, GF1='05,99,1,99,9,00,1,99999,9,03,1,00,1', IA1=None, KA1=None, KA2=None, MD1='2,1,006,1,+999,9', MW1='02,1', MW2=None, EQD='Q01+000002SCOTLC')]"
      ]
     },
     "execution_count": 49,
     "metadata": {},
     "output_type": "execute_result"
    }
   ],
   "source": [
    "# 'old' RDD API underneath...\n",
    "data_frame.rdd.take(1)"
   ]
  },
  {
   "cell_type": "code",
   "execution_count": 50,
   "metadata": {},
   "outputs": [
    {
     "data": {
      "text/plain": [
       "39"
      ]
     },
     "execution_count": 50,
     "metadata": {},
     "output_type": "execute_result"
    }
   ],
   "source": [
    "data_frame.rdd.getNumPartitions()"
   ]
  },
  {
   "cell_type": "code",
   "execution_count": 51,
   "metadata": {},
   "outputs": [
    {
     "data": {
      "text/plain": [
       "[Row(NAME='PAVELETS, RS'),\n",
       " Row(NAME='DZARDZAN, RS'),\n",
       " Row(NAME='UST MAJYA, RS'),\n",
       " Row(NAME='OKSOY FYR, NO'),\n",
       " Row(NAME='LIMNOS ISLAND AIRPORT, GR'),\n",
       " Row(NAME='DANMARKSHAVN PORT, GL'),\n",
       " Row(NAME='MUKHINO, RS'),\n",
       " Row(NAME='VALKENBURG, NL'),\n",
       " Row(NAME='UST PORT UST ENISEISK, RS'),\n",
       " Row(NAME='TURINSK, RS')]"
      ]
     },
     "execution_count": 51,
     "metadata": {},
     "output_type": "execute_result"
    }
   ],
   "source": [
    "# .distinct()\n",
    "data_frame.select('NAME').distinct().take(10)"
   ]
  },
  {
   "cell_type": "code",
   "execution_count": 52,
   "metadata": {},
   "outputs": [
    {
     "data": {
      "text/plain": [
       "571"
      ]
     },
     "execution_count": 52,
     "metadata": {},
     "output_type": "execute_result"
    }
   ],
   "source": [
    "# .count()\n",
    "data_frame.select('NAME').distinct().count()"
   ]
  },
  {
   "cell_type": "code",
   "execution_count": 11,
   "metadata": {},
   "outputs": [
    {
     "data": {
      "text/plain": [
       "[Row(WND='130,1,N,0026,1'),\n",
       " Row(WND='135,1,N,0026,1'),\n",
       " Row(WND='180,1,N,0036,1'),\n",
       " Row(WND='180,1,N,0036,1'),\n",
       " Row(WND='140,1,N,0021,1'),\n",
       " Row(WND='135,1,N,0021,1'),\n",
       " Row(WND='170,1,N,0026,1'),\n",
       " Row(WND='180,1,N,0026,1'),\n",
       " Row(WND='170,1,N,0026,1'),\n",
       " Row(WND='180,1,N,0026,1')]"
      ]
     },
     "execution_count": 11,
     "metadata": {},
     "output_type": "execute_result"
    }
   ],
   "source": [
    "# .take() (like .show())\n",
    "data_frame.filter('NAME == \"PRESTWICK, UK\"').select('WND').take(10)"
   ]
  },
  {
   "cell_type": "markdown",
   "metadata": {},
   "source": []
  },
  {
   "cell_type": "code",
   "execution_count": 29,
   "metadata": {},
   "outputs": [
    {
     "name": "stdout",
     "output_type": "stream",
     "text": [
      "+--------------+------------+\n",
      "|           WND|WND_SPEED_MS|\n",
      "+--------------+------------+\n",
      "|130,1,N,0026,1|         2.6|\n",
      "|135,1,N,0026,1|         2.6|\n",
      "|180,1,N,0036,1|         3.6|\n",
      "|180,1,N,0036,1|         3.6|\n",
      "|140,1,N,0021,1|         2.1|\n",
      "|135,1,N,0021,1|         2.1|\n",
      "|170,1,N,0026,1|         2.6|\n",
      "|180,1,N,0026,1|         2.6|\n",
      "|170,1,N,0026,1|         2.6|\n",
      "|180,1,N,0026,1|         2.6|\n",
      "|180,1,N,0057,1|         5.7|\n",
      "|180,1,N,0057,1|         5.7|\n",
      "|190,1,N,0057,1|         5.7|\n",
      "|180,1,N,0057,1|         5.7|\n",
      "|200,1,N,0057,1|         5.7|\n",
      "|203,1,N,0057,1|         5.7|\n",
      "|200,1,N,0057,1|         5.7|\n",
      "|203,1,N,0057,1|         5.7|\n",
      "|200,1,N,0051,1|         5.1|\n",
      "|203,1,N,0051,1|         5.1|\n",
      "+--------------+------------+\n",
      "only showing top 20 rows\n",
      "\n",
      "+-------+------------------+\n",
      "|summary|      WND_SPEED_MS|\n",
      "+-------+------------------+\n",
      "|  count|           8601428|\n",
      "|   mean|  4.04703105111847|\n",
      "| stddev|3.2041228109591486|\n",
      "|    min|               0.0|\n",
      "|    25%|               1.5|\n",
      "|    50%|               3.6|\n",
      "|    75%|               5.7|\n",
      "|    max|               9.8|\n",
      "+-------+------------------+\n",
      "\n"
     ]
    }
   ],
   "source": [
    "# Convert a column\n",
    "\n",
    "import pyspark\n",
    "from pyspark.sql.functions import udf\n",
    "from pyspark.sql.types import StringType\n",
    "\n",
    "def WND_to_WND_SPEED_MS(wnd):\n",
    "  return float(wnd.split(',')[3])/10\n",
    "\n",
    "udf_WND_to_WND_SPEED_MS = udf(WND_to_WND_SPEED_MS, StringType())\n",
    "\n",
    "\n",
    "data_frame_with_wnd_speed = data_frame.withColumn(\"WND_SPEED_MS\",udf_WND_to_WND_SPEED_MS(\"WND\"))\n",
    "\n",
    "# .filter()\n",
    "\n",
    "# 9999: missing (with scale factor of 10)\n",
    "data_frame_with_wnd_speed = data_frame_with_wnd_speed.filter(data_frame_with_wnd_speed['WND_SPEED_MS'] < 999)\n",
    "\n",
    "#wnd_split = pyspark.sql.functions.split(data_frame['WND'], ',')\n",
    "#data_frame_with_wnd_speed = data_frame.withColumn('WND_SPEED_MS', wnd_split.getItem(3))\n",
    "\n",
    "data_frame_with_wnd_speed.select('WND', 'WND_SPEED_MS').show()\n",
    "\n",
    "data_frame_with_wnd_speed.select('WND_SPEED_MS').summary().show()"
   ]
  },
  {
   "cell_type": "code",
   "execution_count": 35,
   "metadata": {},
   "outputs": [
    {
     "name": "stdout",
     "output_type": "stream",
     "text": [
      "+--------------------+------------------+\n",
      "|                NAME|  AVG_WND_SPEED_MS|\n",
      "+--------------------+------------------+\n",
      "|  VESTMANNAEYJAR, IC|            11.555|\n",
      "| CAMPBELL ISLAND, NZ|10.924466571835005|\n",
      "|    GRAN CANARIA, SP|10.658823529411762|\n",
      "|       LANZAROTE, SP|10.207692307692309|\n",
      "|AMCHITKA ISLAND, ...| 10.05585070611949|\n",
      "|MOUNT LAGUNA CAA ...|  9.96358447488591|\n",
      "|FELDBERG SCHWARZW...|   9.5155817174515|\n",
      "|LUDERITZ DIAZ POI...| 9.252941176470593|\n",
      "|PINE SPRINGS GUAD...| 8.779119561493236|\n",
      "|   ILE AMSTERDAM, FS| 8.772727272727295|\n",
      "|        WALES, AK US| 8.759103385178399|\n",
      "|   MARION ISLAND, SF|  8.67556008146638|\n",
      "|           MATUA, RS| 8.636529680365339|\n",
      "|    ARGENTIA AUT, CA| 8.558078552616378|\n",
      "|       CASPER, WY US|  8.35883822610875|\n",
      "|           ASSAB, ER| 8.353956834532378|\n",
      "|  BUHTA GAVRIILA, RS| 8.194366197183165|\n",
      "|   CAPE CAMPBELL, NZ| 8.194150417827288|\n",
      "|       MOGADISHU, SO| 8.189841269841274|\n",
      "|       KANIN NOS, RS| 8.145466155810983|\n",
      "+--------------------+------------------+\n",
      "only showing top 20 rows\n",
      "\n"
     ]
    }
   ],
   "source": [
    "# .agg(), .orderby()  -- where is the avg most windy place?\n",
    "\n",
    "most_windy = data_frame_with_wnd_speed.groupby('NAME')\\\n",
    "    .agg({'WND_SPEED_MS': 'mean'})\\\n",
    "    .orderBy('avg(WND_SPEED_MS)', ascending=False)\\\n",
    "\n",
    "# Rename a column\n",
    "most_windy = most_windy.withColumnRenamed('avg(WND_SPEED_MS)','AVG_WND_SPEED_MS')\n",
    "    \n",
    "most_windy.show()"
   ]
  },
  {
   "cell_type": "code",
   "execution_count": 41,
   "metadata": {},
   "outputs": [],
   "source": [
    "most_windy.limit(20).write.format('csv').save('/mnt/nfs/ben-spark-master/teaching/noaa/output.csv')"
   ]
  },
  {
   "cell_type": "code",
   "execution_count": 42,
   "metadata": {},
   "outputs": [],
   "source": [
    "# output CSV as ~200 files.\n",
    "most_windy.write.format('csv').save('/mnt/nfs/ben-spark-master/teaching/noaa/output-all.csv')"
   ]
  },
  {
   "cell_type": "code",
   "execution_count": null,
   "metadata": {},
   "outputs": [],
   "source": []
  }
 ],
 "metadata": {
  "kernelspec": {
   "display_name": "Python 3",
   "language": "python",
   "name": "python3"
  },
  "language_info": {
   "codemirror_mode": {
    "name": "ipython",
    "version": 3
   },
   "file_extension": ".py",
   "mimetype": "text/x-python",
   "name": "python",
   "nbconvert_exporter": "python",
   "pygments_lexer": "ipython3",
   "version": "3.5.2"
  }
 },
 "nbformat": 4,
 "nbformat_minor": 2
}
