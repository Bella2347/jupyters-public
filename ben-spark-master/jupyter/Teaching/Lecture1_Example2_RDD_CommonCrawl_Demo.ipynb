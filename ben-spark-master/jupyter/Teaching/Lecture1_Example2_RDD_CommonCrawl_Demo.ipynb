{
 "cells": [
  {
   "cell_type": "code",
   "execution_count": 1,
   "metadata": {},
   "outputs": [
    {
     "ename": "NameError",
     "evalue": "name 'spark_session' is not defined",
     "output_type": "error",
     "traceback": [
      "\u001b[0;31m---------------------------------------------------------------------------\u001b[0m",
      "\u001b[0;31mNameError\u001b[0m                                 Traceback (most recent call last)",
      "\u001b[0;32m<ipython-input-1-cc3eca1b4f04>\u001b[0m in \u001b[0;36m<module>\u001b[0;34m()\u001b[0m\n\u001b[0;32m----> 1\u001b[0;31m \u001b[0mspark_session\u001b[0m\u001b[0;34m.\u001b[0m\u001b[0mstop\u001b[0m\u001b[0;34m(\u001b[0m\u001b[0;34m)\u001b[0m\u001b[0;34m\u001b[0m\u001b[0m\n\u001b[0m",
      "\u001b[0;31mNameError\u001b[0m: name 'spark_session' is not defined"
     ]
    }
   ],
   "source": [
    "spark_session.stop()"
   ]
  },
  {
   "cell_type": "code",
   "execution_count": 2,
   "metadata": {},
   "outputs": [],
   "source": [
    "from pprint import pprint\n",
    "from operator import add"
   ]
  },
  {
   "cell_type": "code",
   "execution_count": null,
   "metadata": {},
   "outputs": [],
   "source": [
    "from pyspark.sql import SparkSession\n",
    "\n",
    "# (8 cores, 16gb per machine) x 5\n",
    "\n",
    "# New API\n",
    "spark_session = SparkSession\\\n",
    "        .builder\\\n",
    "        .master(\"spark://ben-spark-master:7077\") \\\n",
    "        .config('spark.executor.memory', '2g') \\\n",
    "        .config('spark.driver.maxResultSize', 0) \\\n",
    "        .appName(\"common_crawl\")\\\n",
    "        .getOrCreate()\n",
    "#        .config('spark.executor.cores', 2)\\\n",
    "\n",
    "\n",
    "# Old API (RDD)\n",
    "spark_context = spark_session.sparkContext\n",
    "\n",
    "# (*/*) - out of memory\n",
    "# ~6.4mins for 39496 files. (...00000/)  (takes 1 minute with 40 partitions)\n",
    "# ~5 secs for 10 files (...00000/0*) \n",
    "rdd = spark_context.wholeTextFiles('/mnt/nfs/ben-spark-master/teaching/crawl/CC-MAIN-2018-03/splits/CC-MAIN-20180317035630-20180317055630-00000.warc.wet/', minPartitions=40).cache()\n",
    "rdd.count()\n"
   ]
  },
  {
   "cell_type": "code",
   "execution_count": 4,
   "metadata": {},
   "outputs": [
    {
     "data": {
      "text/plain": [
       "7"
      ]
     },
     "execution_count": 4,
     "metadata": {},
     "output_type": "execute_result"
    }
   ],
   "source": [
    "rdd.getNumPartitions()"
   ]
  },
  {
   "cell_type": "code",
   "execution_count": 5,
   "metadata": {},
   "outputs": [
    {
     "name": "stdout",
     "output_type": "stream",
     "text": [
      "http://ben-spark-master:4040\n"
     ]
    }
   ],
   "source": [
    "print(spark_context.uiWebUrl)"
   ]
  },
  {
   "cell_type": "code",
   "execution_count": 6,
   "metadata": {},
   "outputs": [
    {
     "data": {
      "text/plain": [
       "[('file:/mnt/nfs/ben-spark-master/teaching/crawl/CC-MAIN-2018-03/splits/CC-MAIN-20180317035630-20180317055630-00000.warc.wet/09',\n",
       "  \"WARC/1.0\\r\\nWARC-Type: conversion\\r\\nWARC-Target-URI: http://01script.com/2017/03/\\r\\nWARC-Date: 2018-03-17T04:07:02Z\\r\\nWARC-Record-ID: <urn:uuid:e7926d58-57b9-41a8-9400-304063811adc>\\r\\nWARC-Refers-To: <urn:uuid:be005369-c079-4244-9629-ebefb1be0b8f>\\r\\nWARC-Block-Digest: sha1:QCN4W3SUCH3HUJESXDMIUXPE742V27SV\\r\\nContent-Type: text/plain\\r\\nContent-Length: 8192\\r\\n\\r\\nmars, 2017 | Script Webmaster\\nScripts Clone\\nCMS\\nBoonEx – Dolphin\\nWordPress\\nDrupal\\nJoomla\\nXoops\\nScripts Réseaux Sociaux\\nScripts Rencontre\\nScripts Rencontre\\nDémarrez un Business de Rencontre\\nScripts Chat\\nScript Vidéos\\nAffiliation\\nAstuces\\nScript-Webmaster - 01Script.com\\nOutils pour Webmasters, Scripts, CMS, Logiciels, Thèmes, Templates, Ressources, ...\\nMonthly Archives: mars 2017\\nLe Plan Complet pour récupérer les adresses email des employés d’une entreprise X ou Y\\n01Script\\nNous allons voir ici comment récupérer les adresses emails d’une entreprise ciblé dans le domaine dont vous avez besoin. Dans une entreprise, toutes les adresses emails sont formatés d’un format du style « prénom.nom@la-societe.com » Un plugin du nom « Rapportive » permet de récupérer les adresses emails des employés d’une société qui a un compte sur Linkedin…\\nLire la suite →\\nHacker « intelligemment » son cerveau pour le bien de son Business\\n01Script\\nDans la plupart des cas, un bon entrepreneur (malin et ambitieuxx) doit avoir un bon cerveau. Dans cet article, vous allez donc voir comment améliorer son cerveau et comment bien l’utiliser pour gagner du temps et mieux gérer et innover son Web business. Le cerveau est une chose de très captivant et de très mystérieux.…\\nLire la suite →\\nAugmenter sa rapidité de 47% grâce à une navigation PC différente!\\n01Script\\nAlors, aujourd’hui je vous propose une nouvelle façon de travailler et d’augmenter par 47% la vitesse de travail sur votre PC ou portable. Je suis actuellement dans un Caffè Nero, juste en face du Whitworth Park à Manchester et comme j’uilise cette pratique très souvent maintenant, je me suis dis que c’était l’occasion d’écrire un…\\nLire la suite →\\nLes bonnes façons de faire de la « pub » ABSORBANTE\\n01Script\\nLes bonnes façons de faire de la « pub » ABSORBANTE détournée. Le truc tout con, mais GÉNIAL Salut les amis ! Aujourd’hui je voulais vous expliquer une méthode « ahurissante » si vous voulez faire de la pub dans des journaux, sites locaux, flyers ou agences publicitaires Web qui autorisent un message publicitaire supérieur à 50 caractères (ce…\\nLire la suite →\\nPUB déguisée et intelligente – Mettre l’attention dans ses publicités\\n01Script\\nSi vous avez déjà fait des campagnes publicitaires, vous avez sûrement pu constater que les gens ne font plus attention aux affiches publicitaires. Eh oui, la pub « traditionnelle » de nos jours est morte. Cependant, il existe des façons malignes de faire des pubs qui donnent de bon taux de conversion. En effet, il n’est plus…\\nLire la suite →\\nExemple de Pub détournée qui attire VRAIMENT l’Attention!\\n01Script\\nDans cet article, nous allons voir une publicité avec une tournure très « intelligence pour faire vendre » que j’avais vu dans un bus à Manchester en Novembre dernier (ville où j’habite actuellement à l’heure où j’écris cet article). Cette publicité donne une bonne idée afin de mettre en valeur une promotion (crédit donné gratuitement pour…\\nLire la suite →\\nEspionnez les futures startups californienne\\n01Script\\nAujourd’hui je voulais vous faire partager un site listant la plupart des startups prometteuses (dont la plupart sont californienne et se trouvant d’ailleurs dans la Silicon Valley 🙂 ), mais toutes ces startups listées sont encore en phase BETA… (Phase de première année d’une startup). Le site est betalist.com (ici pour avoir uniquement les startups…\\nLire la suite →\\nLes Pubs du futur… Pourquoi la pub sur le Net n’est pas morte…?\\n01Script\\nBon, comme beaucoup de gens le savent, et comme vous le savez probablement, les Web business basés sur la publicité n’ont plus d’avenir. La plupart des internautes utilisent maintenant des bloqueurs de publicités et si ce n’est pas le cas, deviennent complément aveugle aux pubs et n’y apportent plus aucune importance (ce qu’on appelé l’effet…\\nLire la suite →\\nCréer une magnifique landing page en 5min chrono!\\n01Script\\nAujourd’hui je tenais à vous partager un service super cool qui vous permet de créer une landing page super rapidement en 5/10 minutes montre en main et avec un design à la « startup » et très professionnel. Vous pouvez facilement tester votre future produit sur ce service en le décrivant et en disant ce qu’il donne…\\nLire la suite →\\nSearch for:\\nTermes de recherche populaires\\nchatroulette adulte\\nchatroulette\\nchatroulette wiki\\nchatroulette adult\\nCMS reseau social\\nArticles recherchés\\nscript chatroulette\\ncode php pour la telephonie\\ncms social gratuit\\ntelecharger dolphin 7\\nchatroulette avec cam\\nTermes de recherche récents\\nscript reseau sociaux codeigniter\\nscript open source\\ncree un site social\\ncms reseau social come facebook\\nscript cms gratuit\\nPopular\\nRecent\\nScript Chat Webcam gratuit et open…\\n20 Comments\\nVotre réseau social avec WordPress +…\\n18 Comments\\nScript Chatroulette Clone Gratuit\\n18 Comments\\nListe des meilleurs CMS et portail…\\n14 Comments\\nScript Flash Chat en PHP gratuit\\n12 Comments\\nComment rendre bootable (exécutable)…\\n0 Comments\\nMes configurations & Plugins…\\n0 Comments\\nPlanifiez votre retraite (bien…\\n0 Comments\\nPHPBoost, le CMS français parfait…\\n0 Comments\\nComment Transformer UNE IDÉE en…\\n0 Comments\\nCategories\\nArchives\\nActualité du net 4\\nAffiliation 3\\nDating 1\\nAller à l'étranger 2\\nComment démarrez un Business de Rencontre en ligne de A à Z 29\\nDéveloppement Personnel 2\\nExtensions pour navigateurs Web 4\\nFormations 3\\nGNU/Linux 6\\nHébergeur Web 2\\nLangage Web 67\\nASP, C#, .NET (Microsoft) 4\\nJava/JEE 3\\nJavaScript 3\\nPerl 2\\nPHP 50\\nPython 2\\nRuby 9\\nLes Monster Idea 22\\nLes Monster Startup 12\\nLes Monsters Trucs Inédits 24\\nLivres 1\\nLivres informatique 3\\nMarketing 14\\nNom de domaine / DNS 1\\nOutils pour blogueurs pro 8\\nOutils pour webmasters 138\\nCMS 38\\nBoonEx – Dolphin 1\\nJoomla 3\\nWordpress 8\\nXoops 1\\nFramework 13\\nGraphisme 2\\nScript Jeux 1\\nScript plate-forme vidéos 2\\nScripts Clone 38\\nScripts de Chat, Tchat, IRC 18\\nScripts forums de discussions 4\\nScripts Rencontre 27\\nScripts Réseaux sociaux 45\\nTemplates – Thèmes 3\\nProductivité 10\\nStratégie de vente 8\\nTrucs & Astuces 40\\njanvier 2018\\nseptembre 2017\\naoût 2017\\njuillet 2017\\njuin 2017\\nmai 2017\\navril 2017\\nmars 2017\\nfévrier 2017\\njuillet 2016\\navril 2016\\nmars 2016\\ndécembre 2015\\noctobre 2015\\njuin 2015\\nmai 2015\\navril 2015\\nfévrier 2015\\njanvier 2015\\ndécembre 2014\\nnovembre 2014\\noctobre 2014\\nseptembre 2014\\njuin 2014\\nmai 2014\\navril 2014\\nmars 2014\\nfévrier 2014\\njanvier 2014\\ndécembre 2013\\ndécembre 2012\\nnovembre 2012\\nseptembre 2012\\naoût 2012\\njuillet 2012\\njuin 2012\\nmai 2012\\navril 2012\\nmars 2012\\nfévrier 2012\\njanvier 2012\\nnovembre 2011\\noctobre 2011\\nseptembre 2011\\naoût 2011\\njuillet 2011\\njuin 2011\\nmai 2011\\nmars 2011\\njanvier 2011\\ndécembre 2010\\nnovembre 2010\\noctobre 2010\\nseptembre 2010\\nCatégories\\nActualité du net (4)\\nAffiliation (3)\\nDating (1)\\nAller à l'étranger (2)\\nComment démarrez un Business de Rencontre en ligne de A à Z (29)\\nDéveloppement Personnel (2)\\nExtensions pour navigateurs Web (4)\\nFormations (3)\\nGNU/Linux (6)\\nHébergeur Web (2)\\nLangage Web (67)\\nASP, C#, .NET (Microsoft) (4)\\nJava/JEE (3)\\nJavaScript (3)\\nPerl (2)\\nPHP (50)\\nPython (2)\\nRuby (9)\\nLes Monster Idea (22)\\nLes Monster Startup (12)\\nLes Monsters Trucs Inédits (24)\\nLivres (1)\\nLivres informatique (3)\\nMarketing (14)\\nNom de domaine / DNS (1)\\nOutils pour blogueurs pro (8)\\nOutils pour webmasters (138)\\nCMS (38)\\nBoonEx – Dolphin (1)\\nJoomla (3)\\nWordpress (8)\\nXoops (1)\\nFramework (13)\\nGraphisme (2)\\nScript Jeux (1)\\nScript plate-forme vidéos (2)\\nScripts Clone (38)\\nScripts de Chat, Tchat, IRC (18)\\nScripts forums de discussions (4)\\nScripts Rencontre (27)\\nScripts Réseaux sociaux (45)\\nTemplates – Thèmes (3)\\nProductivité (10)\\nStratégie de vente (8)\\nTrucs & Astuces (40)\\nCopyright © 01 Script\\nCréez votre Propre Site de Rencontre\\nMoi …?\\nContactez-moi\\nMe soutenir !\\nMentions légales | Politique de confidentialité\\n01Script utilise des cookies pour vous garantir la meilleure expérience sur notre site. Si vous continuez à utiliser ce dernier, nous considérerons que vous acceptez l'utilisation des cookies.Ok\\n\\r\\n\\r\\n\")]"
      ]
     },
     "execution_count": 6,
     "metadata": {},
     "output_type": "execute_result"
    }
   ],
   "source": [
    "rdd.take(1)"
   ]
  },
  {
   "cell_type": "code",
   "execution_count": 18,
   "metadata": {},
   "outputs": [
    {
     "name": "stdout",
     "output_type": "stream",
     "text": [
      "[('com', 'mars,'), ('com', '2017'), ('com', '|'), ('com', 'Script'), ('com', 'Webmaster'), ('com', 'Scripts'), ('com', 'Clone'), ('com', 'CMS'), ('com', 'BoonEx'), ('com', '–')]\n",
      "OrderedDict([('ru', 1580), ('com', 1560), ('rs', 393), ('net', 120), ('jp', 49)])\n",
      "{'rs': 393, 'net': 120, 'ru': 1580, 'jp': 49, 'com': 1560}\n",
      "Results:\n",
      "rs\n",
      "[('i', 15), ('Za', 5), ('011', 5), ('Majice', 5), ('sajta', 5), ('/', 4), ('shop', 4), ('sa', 4), ('|', 4), ('', 3), ('kupaći', 3), ('Uplate', 3), ('iz', 3), ('Preko', 3), ('za', 3), ('Isporuka', 3), ('-', 3), ('decu', 3), ('čirak', 3), ('kupce', 3)]\n",
      "net\n",
      "[('[フリー写真]', 4), ('', 3), ('壱', 3), ('・著作者のクレジットを表示すること。', 3), ('・改変して二次創作すること。', 3), ('・営利目的で作品を二次利用すること。', 3), ('(1)', 3), ('GATAG｜フリー素材集', 3), ('(0)', 2), ('-', 2), ('ライセンス', 2), ('体育座りして天を見上げるビジネスウーマン', 2), ('2015年6月', 1), ('←', 1), ('2', 1), ('フリー写真', 1), ('「クール」順に表示', 1), ('300', 1), ('表示', 1), ('1', 1)]\n",
      "ru\n",
      "[('в', 69), ('и', 36), ('казани', 25), ('с', 21), ('калипсо', 19), ('не', 17), ('что', 14), ('на', 13), ('для', 12), ('интим', 11), ('знакомства', 10), ('как', 10), ('Появление', 10), ('за', 8), ('массаж', 6), ('по', 6), ('массажа', 6), ('секс', 6), ('то', 6), ('очень', 5)]\n",
      "jp\n",
      "[('', 3), ('理】', 1), ('【登', 1), ('┣詩･小説･日記｢32｣', 1), ('★☆', 1), ('-Ｔhank♪ｙou-', 1), ('┣精神系｢23｣', 1), ('┣サイト様検索', 1), ('RAnk', 1), ('院', 1), ('┣自己満足｢53｣', 1), ('染', 1), ('NAtion-', 1), ('‡人気サイト様‡', 1), ('【ｶﾃ別/月間/ＣＭ】', 1), ('-RAnk', 1), ('#random#', 1), ('登録変更はコチラ', 1), ('-', 1), ('催/管', 1)]\n",
      "com\n",
      "[('de', 39), ('la', 23), ('et', 17), ('Scripts', 15), ('vous', 14), ('pour', 14), ('un', 13), ('des', 13), ('', 12), ('à', 12), ('en', 12), ('une', 11), ('2012', 11), ('Comments', 10), ('Script', 10), ('01Script', 10), ('2014', 10), ('2017', 10), ('suite', 9), ('Web', 9)]\n"
     ]
    }
   ],
   "source": [
    "#file_content = rdd.take(1)[0][1]\n",
    "#print(file_content.partition('\\r\\n\\r\\n')[2])\n",
    "\n",
    "from operator import add\n",
    "import re\n",
    "from collections import OrderedDict\n",
    "from operator import itemgetter \n",
    "import itertools\n",
    "\n",
    "ex = \"WARC-Type: conversion\\\n",
    "WARC-Target-URI: http://news.bbc.co.uk/2/hi/africa/3414345.stm\\\n",
    "WARC-Date: 2014-08-02T09:52:13Z\"\n",
    "\n",
    "p = re.compile('WARC-Target-URI: \\S+\\.([a-zA-Z]{2,3})/', re.IGNORECASE)\n",
    "# print(p.search(ex).group(1))\n",
    "# uk\n",
    "\n",
    "def get_tld(content):\n",
    "    match = p.search(content)\n",
    "    if match is not None:\n",
    "        return match.group(1)\n",
    "    else:\n",
    "        return None\n",
    "\n",
    "#print(bool(p.search('\\nWARC-Target-URI:\\n')))\n",
    "\n",
    "#.filter(lambda doc: bool(p.search(doc[1])))\\\n",
    "words_by_tld_rdd = rdd\\\n",
    ".map(lambda filename_content: filename_content[1])\\\n",
    ".map(lambda content: (get_tld(content), content.partition('\\r\\n\\r\\n')[2]))\\\n",
    ".filter(lambda tld_content: tld_content[0] is not None)\\\n",
    ".flatMapValues(lambda words: words.split(' '))\\\n",
    ".flatMapValues(lambda words: words.split('\\n'))\\\n",
    ".mapValues(lambda word: word.strip())\n",
    "#.take(10)\n",
    "\n",
    "print(words_by_tld_rdd.take(10))\n",
    "\n",
    "tlds = words_by_tld_rdd.countByKey()\n",
    "#print(tlds)\n",
    "\n",
    "tlds = OrderedDict(sorted(tlds.items(), key = itemgetter(1), reverse = True))\n",
    "print(tlds)  \n",
    "\n",
    "top_tlds = dict(itertools.islice(tlds.items(), 10))\n",
    "\n",
    "print(top_tlds)\n",
    "\n",
    "print(\"Results:\")\n",
    "\n",
    "for tld in top_tlds:\n",
    "    print(tld)\n",
    "    top_words_for_tld = words_by_tld_rdd\\\n",
    "        .filter(lambda tld_word: tld_word[0] == tld)\\\n",
    "        .values()\\\n",
    "        .map(lambda w: (w,1))\\\n",
    "        .reduceByKey(add)\\\n",
    "        .takeOrdered(20, key=lambda x: -x[1])\n",
    "    print(top_words_for_tld)\n",
    "\n",
    "#.partition('\\r\\n\\r\\n')[2])\\\n",
    "#.take(100)\n",
    "#.take(10)\n",
    "#.flatMap(lambda text: text.split(' ')).take(100)"
   ]
  },
  {
   "cell_type": "code",
   "execution_count": null,
   "metadata": {},
   "outputs": [],
   "source": []
  },
  {
   "cell_type": "code",
   "execution_count": 52,
   "metadata": {},
   "outputs": [
    {
     "name": "stdout",
     "output_type": "stream",
     "text": [
      "None\n"
     ]
    }
   ],
   "source": [
    "#file_content = rdd.take(1)[0][1]\n",
    "#print(file_content.partition('\\r\\n\\r\\n')[2])\n",
    "from operator import add\n",
    "import re\n",
    "\n",
    "ex = \"WARC-Type: conversion\\\n",
    "WARC-Target-URI: http://news.bbc.co.uk/2/hi/africa/3414345.stm\\\n",
    "WARC-Date: 2014-08-02T09:52:13Z\"\n",
    "\n",
    "p = re.compile('WARC-Target-URI: \\S+\\.(([a-zA-Z]{2,3}}\\.)?[a-zA-Z]{2,3}})/', re.IGNORECASE)\n",
    "\n",
    "print(p.search(ex))\n",
    "\n",
    "#print(bool(p.search('\\nWARC-Target-URI:\\n')))\n",
    "\n",
    "#rdd\\\n",
    "#.filter(lambda doc: bool(p.search(doc[1])))\\\n",
    "#.map(lambda filename_content: filename_content[1].partition('\\r\\n\\r\\n')[2])\\\n",
    "#.flatMap(lambda t: t.split(' '))\\\n",
    "#.flatMap(lambda w: w.split('\\n'))\\\n",
    "#.map(lambda w: w.strip())\\\n",
    "#.map(lambda w: (w,1))\\\n",
    "#.reduceByKey(add)\\\n",
    "#.takeOrdered(100, key=lambda x: -x[1])\n",
    "#.take(100)\n",
    "#.take(10)\n",
    "#.flatMap(lambda text: text.split(' ')).take(100)"
   ]
  },
  {
   "cell_type": "code",
   "execution_count": 6,
   "metadata": {},
   "outputs": [
    {
     "ename": "KeyboardInterrupt",
     "evalue": "",
     "output_type": "error",
     "traceback": [
      "\u001b[0;31m---------------------------------------------------------------------------\u001b[0m",
      "\u001b[0;31mKeyboardInterrupt\u001b[0m                         Traceback (most recent call last)",
      "\u001b[0;32m<ipython-input-6-11352f4c967c>\u001b[0m in \u001b[0;36m<module>\u001b[0;34m()\u001b[0m\n\u001b[0;32m----> 1\u001b[0;31m \u001b[0mrdd\u001b[0m\u001b[0;34m.\u001b[0m\u001b[0mmap\u001b[0m\u001b[0;34m(\u001b[0m\u001b[0;32mlambda\u001b[0m \u001b[0mfilename_content\u001b[0m\u001b[0;34m:\u001b[0m \u001b[0mfilename_content\u001b[0m\u001b[0;34m[\u001b[0m\u001b[0;36m1\u001b[0m\u001b[0;34m]\u001b[0m\u001b[0;34m.\u001b[0m\u001b[0msplit\u001b[0m\u001b[0;34m(\u001b[0m\u001b[0;34m'WARC/1.0'\u001b[0m\u001b[0;34m)\u001b[0m\u001b[0;34m)\u001b[0m\u001b[0;34m.\u001b[0m\u001b[0mcache\u001b[0m\u001b[0;34m(\u001b[0m\u001b[0;34m)\u001b[0m\u001b[0;34m.\u001b[0m\u001b[0mtake\u001b[0m\u001b[0;34m(\u001b[0m\u001b[0;36m1\u001b[0m\u001b[0;34m)\u001b[0m\u001b[0;34m\u001b[0m\u001b[0m\n\u001b[0m",
      "\u001b[0;32m~/.local/lib/python3.5/site-packages/pyspark/rdd.py\u001b[0m in \u001b[0;36mtake\u001b[0;34m(self, num)\u001b[0m\n\u001b[1;32m   1356\u001b[0m \u001b[0;34m\u001b[0m\u001b[0m\n\u001b[1;32m   1357\u001b[0m             \u001b[0mp\u001b[0m \u001b[0;34m=\u001b[0m \u001b[0mrange\u001b[0m\u001b[0;34m(\u001b[0m\u001b[0mpartsScanned\u001b[0m\u001b[0;34m,\u001b[0m \u001b[0mmin\u001b[0m\u001b[0;34m(\u001b[0m\u001b[0mpartsScanned\u001b[0m \u001b[0;34m+\u001b[0m \u001b[0mnumPartsToTry\u001b[0m\u001b[0;34m,\u001b[0m \u001b[0mtotalParts\u001b[0m\u001b[0;34m)\u001b[0m\u001b[0;34m)\u001b[0m\u001b[0;34m\u001b[0m\u001b[0m\n\u001b[0;32m-> 1358\u001b[0;31m             \u001b[0mres\u001b[0m \u001b[0;34m=\u001b[0m \u001b[0mself\u001b[0m\u001b[0;34m.\u001b[0m\u001b[0mcontext\u001b[0m\u001b[0;34m.\u001b[0m\u001b[0mrunJob\u001b[0m\u001b[0;34m(\u001b[0m\u001b[0mself\u001b[0m\u001b[0;34m,\u001b[0m \u001b[0mtakeUpToNumLeft\u001b[0m\u001b[0;34m,\u001b[0m \u001b[0mp\u001b[0m\u001b[0;34m)\u001b[0m\u001b[0;34m\u001b[0m\u001b[0m\n\u001b[0m\u001b[1;32m   1359\u001b[0m \u001b[0;34m\u001b[0m\u001b[0m\n\u001b[1;32m   1360\u001b[0m             \u001b[0mitems\u001b[0m \u001b[0;34m+=\u001b[0m \u001b[0mres\u001b[0m\u001b[0;34m\u001b[0m\u001b[0m\n",
      "\u001b[0;32m~/.local/lib/python3.5/site-packages/pyspark/context.py\u001b[0m in \u001b[0;36mrunJob\u001b[0;34m(self, rdd, partitionFunc, partitions, allowLocal)\u001b[0m\n\u001b[1;32m    999\u001b[0m         \u001b[0;31m# SparkContext#runJob.\u001b[0m\u001b[0;34m\u001b[0m\u001b[0;34m\u001b[0m\u001b[0m\n\u001b[1;32m   1000\u001b[0m         \u001b[0mmappedRDD\u001b[0m \u001b[0;34m=\u001b[0m \u001b[0mrdd\u001b[0m\u001b[0;34m.\u001b[0m\u001b[0mmapPartitions\u001b[0m\u001b[0;34m(\u001b[0m\u001b[0mpartitionFunc\u001b[0m\u001b[0;34m)\u001b[0m\u001b[0;34m\u001b[0m\u001b[0m\n\u001b[0;32m-> 1001\u001b[0;31m         \u001b[0mport\u001b[0m \u001b[0;34m=\u001b[0m \u001b[0mself\u001b[0m\u001b[0;34m.\u001b[0m\u001b[0m_jvm\u001b[0m\u001b[0;34m.\u001b[0m\u001b[0mPythonRDD\u001b[0m\u001b[0;34m.\u001b[0m\u001b[0mrunJob\u001b[0m\u001b[0;34m(\u001b[0m\u001b[0mself\u001b[0m\u001b[0;34m.\u001b[0m\u001b[0m_jsc\u001b[0m\u001b[0;34m.\u001b[0m\u001b[0msc\u001b[0m\u001b[0;34m(\u001b[0m\u001b[0;34m)\u001b[0m\u001b[0;34m,\u001b[0m \u001b[0mmappedRDD\u001b[0m\u001b[0;34m.\u001b[0m\u001b[0m_jrdd\u001b[0m\u001b[0;34m,\u001b[0m \u001b[0mpartitions\u001b[0m\u001b[0;34m)\u001b[0m\u001b[0;34m\u001b[0m\u001b[0m\n\u001b[0m\u001b[1;32m   1002\u001b[0m         \u001b[0;32mreturn\u001b[0m \u001b[0mlist\u001b[0m\u001b[0;34m(\u001b[0m\u001b[0m_load_from_socket\u001b[0m\u001b[0;34m(\u001b[0m\u001b[0mport\u001b[0m\u001b[0;34m,\u001b[0m \u001b[0mmappedRDD\u001b[0m\u001b[0;34m.\u001b[0m\u001b[0m_jrdd_deserializer\u001b[0m\u001b[0;34m)\u001b[0m\u001b[0;34m)\u001b[0m\u001b[0;34m\u001b[0m\u001b[0m\n\u001b[1;32m   1003\u001b[0m \u001b[0;34m\u001b[0m\u001b[0m\n",
      "\u001b[0;32m~/.local/lib/python3.5/site-packages/py4j/java_gateway.py\u001b[0m in \u001b[0;36m__call__\u001b[0;34m(self, *args)\u001b[0m\n\u001b[1;32m   1156\u001b[0m             \u001b[0mproto\u001b[0m\u001b[0;34m.\u001b[0m\u001b[0mEND_COMMAND_PART\u001b[0m\u001b[0;34m\u001b[0m\u001b[0m\n\u001b[1;32m   1157\u001b[0m \u001b[0;34m\u001b[0m\u001b[0m\n\u001b[0;32m-> 1158\u001b[0;31m         \u001b[0manswer\u001b[0m \u001b[0;34m=\u001b[0m \u001b[0mself\u001b[0m\u001b[0;34m.\u001b[0m\u001b[0mgateway_client\u001b[0m\u001b[0;34m.\u001b[0m\u001b[0msend_command\u001b[0m\u001b[0;34m(\u001b[0m\u001b[0mcommand\u001b[0m\u001b[0;34m)\u001b[0m\u001b[0;34m\u001b[0m\u001b[0m\n\u001b[0m\u001b[1;32m   1159\u001b[0m         return_value = get_return_value(\n\u001b[1;32m   1160\u001b[0m             answer, self.gateway_client, self.target_id, self.name)\n",
      "\u001b[0;32m~/.local/lib/python3.5/site-packages/py4j/java_gateway.py\u001b[0m in \u001b[0;36msend_command\u001b[0;34m(self, command, retry, binary)\u001b[0m\n\u001b[1;32m    906\u001b[0m         \u001b[0mconnection\u001b[0m \u001b[0;34m=\u001b[0m \u001b[0mself\u001b[0m\u001b[0;34m.\u001b[0m\u001b[0m_get_connection\u001b[0m\u001b[0;34m(\u001b[0m\u001b[0;34m)\u001b[0m\u001b[0;34m\u001b[0m\u001b[0m\n\u001b[1;32m    907\u001b[0m         \u001b[0;32mtry\u001b[0m\u001b[0;34m:\u001b[0m\u001b[0;34m\u001b[0m\u001b[0m\n\u001b[0;32m--> 908\u001b[0;31m             \u001b[0mresponse\u001b[0m \u001b[0;34m=\u001b[0m \u001b[0mconnection\u001b[0m\u001b[0;34m.\u001b[0m\u001b[0msend_command\u001b[0m\u001b[0;34m(\u001b[0m\u001b[0mcommand\u001b[0m\u001b[0;34m)\u001b[0m\u001b[0;34m\u001b[0m\u001b[0m\n\u001b[0m\u001b[1;32m    909\u001b[0m             \u001b[0;32mif\u001b[0m \u001b[0mbinary\u001b[0m\u001b[0;34m:\u001b[0m\u001b[0;34m\u001b[0m\u001b[0m\n\u001b[1;32m    910\u001b[0m                 \u001b[0;32mreturn\u001b[0m \u001b[0mresponse\u001b[0m\u001b[0;34m,\u001b[0m \u001b[0mself\u001b[0m\u001b[0;34m.\u001b[0m\u001b[0m_create_connection_guard\u001b[0m\u001b[0;34m(\u001b[0m\u001b[0mconnection\u001b[0m\u001b[0;34m)\u001b[0m\u001b[0;34m\u001b[0m\u001b[0m\n",
      "\u001b[0;32m~/.local/lib/python3.5/site-packages/py4j/java_gateway.py\u001b[0m in \u001b[0;36msend_command\u001b[0;34m(self, command)\u001b[0m\n\u001b[1;32m   1053\u001b[0m \u001b[0;34m\u001b[0m\u001b[0m\n\u001b[1;32m   1054\u001b[0m         \u001b[0;32mtry\u001b[0m\u001b[0;34m:\u001b[0m\u001b[0;34m\u001b[0m\u001b[0m\n\u001b[0;32m-> 1055\u001b[0;31m             \u001b[0manswer\u001b[0m \u001b[0;34m=\u001b[0m \u001b[0msmart_decode\u001b[0m\u001b[0;34m(\u001b[0m\u001b[0mself\u001b[0m\u001b[0;34m.\u001b[0m\u001b[0mstream\u001b[0m\u001b[0;34m.\u001b[0m\u001b[0mreadline\u001b[0m\u001b[0;34m(\u001b[0m\u001b[0;34m)\u001b[0m\u001b[0;34m[\u001b[0m\u001b[0;34m:\u001b[0m\u001b[0;34m-\u001b[0m\u001b[0;36m1\u001b[0m\u001b[0;34m]\u001b[0m\u001b[0;34m)\u001b[0m\u001b[0;34m\u001b[0m\u001b[0m\n\u001b[0m\u001b[1;32m   1056\u001b[0m             \u001b[0mlogger\u001b[0m\u001b[0;34m.\u001b[0m\u001b[0mdebug\u001b[0m\u001b[0;34m(\u001b[0m\u001b[0;34m\"Answer received: {0}\"\u001b[0m\u001b[0;34m.\u001b[0m\u001b[0mformat\u001b[0m\u001b[0;34m(\u001b[0m\u001b[0manswer\u001b[0m\u001b[0;34m)\u001b[0m\u001b[0;34m)\u001b[0m\u001b[0;34m\u001b[0m\u001b[0m\n\u001b[1;32m   1057\u001b[0m             \u001b[0;32mif\u001b[0m \u001b[0manswer\u001b[0m\u001b[0;34m.\u001b[0m\u001b[0mstartswith\u001b[0m\u001b[0;34m(\u001b[0m\u001b[0mproto\u001b[0m\u001b[0;34m.\u001b[0m\u001b[0mRETURN_MESSAGE\u001b[0m\u001b[0;34m)\u001b[0m\u001b[0;34m:\u001b[0m\u001b[0;34m\u001b[0m\u001b[0m\n",
      "\u001b[0;32m/usr/lib/python3.5/socket.py\u001b[0m in \u001b[0;36mreadinto\u001b[0;34m(self, b)\u001b[0m\n\u001b[1;32m    573\u001b[0m         \u001b[0;32mwhile\u001b[0m \u001b[0;32mTrue\u001b[0m\u001b[0;34m:\u001b[0m\u001b[0;34m\u001b[0m\u001b[0m\n\u001b[1;32m    574\u001b[0m             \u001b[0;32mtry\u001b[0m\u001b[0;34m:\u001b[0m\u001b[0;34m\u001b[0m\u001b[0m\n\u001b[0;32m--> 575\u001b[0;31m                 \u001b[0;32mreturn\u001b[0m \u001b[0mself\u001b[0m\u001b[0;34m.\u001b[0m\u001b[0m_sock\u001b[0m\u001b[0;34m.\u001b[0m\u001b[0mrecv_into\u001b[0m\u001b[0;34m(\u001b[0m\u001b[0mb\u001b[0m\u001b[0;34m)\u001b[0m\u001b[0;34m\u001b[0m\u001b[0m\n\u001b[0m\u001b[1;32m    576\u001b[0m             \u001b[0;32mexcept\u001b[0m \u001b[0mtimeout\u001b[0m\u001b[0;34m:\u001b[0m\u001b[0;34m\u001b[0m\u001b[0m\n\u001b[1;32m    577\u001b[0m                 \u001b[0mself\u001b[0m\u001b[0;34m.\u001b[0m\u001b[0m_timeout_occurred\u001b[0m \u001b[0;34m=\u001b[0m \u001b[0;32mTrue\u001b[0m\u001b[0;34m\u001b[0m\u001b[0m\n",
      "\u001b[0;31mKeyboardInterrupt\u001b[0m: "
     ]
    }
   ],
   "source": [
    "rdd.map(lambda filename_content: filename_content[1].split('WARC/1.0')).cache().take(1)"
   ]
  },
  {
   "cell_type": "code",
   "execution_count": null,
   "metadata": {},
   "outputs": [],
   "source": [
    "rdd.take(1)[0]"
   ]
  },
  {
   "cell_type": "code",
   "execution_count": null,
   "metadata": {},
   "outputs": [],
   "source": []
  }
 ],
 "metadata": {
  "kernelspec": {
   "display_name": "Python 3",
   "language": "python",
   "name": "python3"
  },
  "language_info": {
   "codemirror_mode": {
    "name": "ipython",
    "version": 3
   },
   "file_extension": ".py",
   "mimetype": "text/x-python",
   "name": "python",
   "nbconvert_exporter": "python",
   "pygments_lexer": "ipython3",
   "version": "3.5.2"
  }
 },
 "nbformat": 4,
 "nbformat_minor": 2
}
