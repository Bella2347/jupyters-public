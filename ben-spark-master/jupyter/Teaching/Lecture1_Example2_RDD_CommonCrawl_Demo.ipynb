{
 "cells": [
  {
   "cell_type": "code",
   "execution_count": 1,
   "metadata": {},
   "outputs": [
    {
     "data": {
      "text/plain": [
       "11110"
      ]
     },
     "execution_count": 1,
     "metadata": {},
     "output_type": "execute_result"
    }
   ],
   "source": [
    "from operator import add\n",
    "import re\n",
    "from collections import OrderedDict\n",
    "from operator import itemgetter \n",
    "import itertools\n",
    "from pyspark.sql import SparkSession\n",
    "\n",
    "# (8 cores, 16gb per machine) x 5 = 40 cores\n",
    "\n",
    "# New API\n",
    "spark_session = SparkSession\\\n",
    "        .builder\\\n",
    "        .master(\"spark://ben-spark-master:7077\") \\\n",
    "        .config('spark.executor.memory', '2g') \\\n",
    "        .config('spark.driver.maxResultSize', 0) \\\n",
    "        .appName(\"common_crawl\")\\\n",
    "        .getOrCreate()\n",
    "#        .config('spark.executor.cores', 2)\\\n",
    "\n",
    "\n",
    "# Old API (RDD)\n",
    "spark_context = spark_session.sparkContext\n",
    "\n",
    "# (*/*) - out of memory›\n",
    "# ~6.4mins for 39496 files. (...00000/)  (takes 1 minute with 40 partitions)\n",
    "# ~5 secs for 10 files (...00000/0*) \n",
    "# ~20 secs for 11110 files (...00000/1*) \n",
    "\n",
    "rdd = spark_context.wholeTextFiles('/mnt/nfs/ben-spark-master/teaching/crawl/CC-MAIN-2018-03/splits/CC-MAIN-20180317035630-20180317055630-00000.warc.wet/1*', minPartitions=40)\\\n",
    ".cache() # Keep this RDD in memory!\n",
    "rdd.count()"
   ]
  },
  {
   "cell_type": "code",
   "execution_count": 2,
   "metadata": {},
   "outputs": [
    {
     "data": {
      "text/plain": [
       "40"
      ]
     },
     "execution_count": 2,
     "metadata": {},
     "output_type": "execute_result"
    }
   ],
   "source": [
    "rdd.getNumPartitions()"
   ]
  },
  {
   "cell_type": "code",
   "execution_count": 3,
   "metadata": {},
   "outputs": [
    {
     "name": "stdout",
     "output_type": "stream",
     "text": [
      "http://ben-spark-master:4040\n"
     ]
    }
   ],
   "source": [
    "print(spark_context.uiWebUrl)"
   ]
  },
  {
   "cell_type": "code",
   "execution_count": 4,
   "metadata": {},
   "outputs": [
    {
     "data": {
      "text/plain": [
       "[('and', 245),\n",
       " ('of', 152),\n",
       " ('the', 149),\n",
       " ('to', 91),\n",
       " ('Diploma', 78),\n",
       " ('University', 74),\n",
       " ('Intermediate', 72),\n",
       " ('Research', 67),\n",
       " ('', 60),\n",
       " ('Design', 56),\n",
       " ('in', 53),\n",
       " ('a', 48),\n",
       " ('for', 47),\n",
       " ('at', 45),\n",
       " ('&', 45),\n",
       " ('|', 42),\n",
       " ('Engineering', 38),\n",
       " ('About', 36),\n",
       " ('by', 34),\n",
       " ('Browse', 34),\n",
       " ('Cambridge', 33),\n",
       " ('Department', 30),\n",
       " ('The', 30),\n",
       " ('PhD', 26),\n",
       " ('on', 25),\n",
       " ('students', 25),\n",
       " ('-', 24),\n",
       " ('Contact', 24),\n",
       " ('with', 24),\n",
       " ('research', 23),\n",
       " ('Publications', 23),\n",
       " ('your', 23),\n",
       " ('International', 22),\n",
       " ('Media', 21),\n",
       " ('News', 21),\n",
       " ('Bristol', 21),\n",
       " ('Courses', 20),\n",
       " ('Search', 19),\n",
       " ('How', 19),\n",
       " ('Business', 19),\n",
       " ('more', 19),\n",
       " ('Undergraduate', 19),\n",
       " ('Us', 19),\n",
       " ('Study', 19),\n",
       " ('Student', 19),\n",
       " ('Current', 19),\n",
       " ('you', 18),\n",
       " ('2', 18),\n",
       " ('Alumni', 18),\n",
       " ('pp.', 18),\n",
       " ('School', 18),\n",
       " ('study', 17),\n",
       " ('Warwick', 17),\n",
       " ('our', 17),\n",
       " ('Information', 17),\n",
       " ('Find', 16),\n",
       " ('Events', 16),\n",
       " ('Services', 16),\n",
       " ('2017', 16),\n",
       " ('be', 15),\n",
       " ('Boero,', 15),\n",
       " ('is', 15),\n",
       " ('this', 14),\n",
       " ('2013', 14),\n",
       " ('Overview', 14),\n",
       " ('WRAP', 14),\n",
       " ('us', 14),\n",
       " ('5', 14),\n",
       " ('10', 13),\n",
       " ('P', 13),\n",
       " ('Skip', 13),\n",
       " ('English', 13),\n",
       " ('4', 13),\n",
       " ('Education', 13),\n",
       " ('11', 13),\n",
       " ('Birmingham', 13),\n",
       " ('9', 13),\n",
       " ('1', 12),\n",
       " ('Law', 12),\n",
       " ('it', 12),\n",
       " ('education', 12),\n",
       " ('Social', 12),\n",
       " ('Laboratory', 12),\n",
       " ('Frank', 12),\n",
       " ('AA', 12),\n",
       " ('6', 12),\n",
       " ('Home', 12),\n",
       " ('Sciences', 12),\n",
       " ('8', 12),\n",
       " ('Urbanism', 12),\n",
       " ('Postgraduate', 12),\n",
       " ('Year', 12),\n",
       " ('Art', 11),\n",
       " ('section...', 11),\n",
       " ('Read', 11),\n",
       " ('Williams,', 11),\n",
       " ('Built', 11),\n",
       " ('will', 11),\n",
       " ('Graduate', 11),\n",
       " ('service', 11)]"
      ]
     },
     "execution_count": 4,
     "metadata": {},
     "output_type": "execute_result"
    }
   ],
   "source": [
    "## Example #1 - Filter by TLD and compute most common words ##\n",
    "\n",
    "# Try .ac.uk, .ru, .se, .com\n",
    "p = re.compile('WARC-Target-URI: \\S+\\.ac.uk', re.IGNORECASE)\n",
    "\n",
    "rdd\\\n",
    ".filter(lambda doc: bool(p.search(doc[1])))\\\n",
    ".map(lambda filename_content: filename_content[1].partition('\\r\\n\\r\\n')[2])\\\n",
    ".flatMap(lambda t: t.split(' '))\\\n",
    ".flatMap(lambda w: w.split('\\n'))\\\n",
    ".map(lambda w: w.strip())\\\n",
    ".map(lambda w: (w,1))\\\n",
    ".reduceByKey(add)\\\n",
    ".takeOrdered(100, key=lambda x: -x[1])\n",
    "\n",
    "# See: http://spark.apache.org/docs/2.3.0/api/python/index.html"
   ]
  },
  {
   "cell_type": "code",
   "execution_count": 5,
   "metadata": {
    "scrolled": true
   },
   "outputs": [
    {
     "name": "stdout",
     "output_type": "stream",
     "text": [
      "[('ru', 'Дельфины'), ('ru', '+'), ('ru', 'Алексей'), ('ru', '»'), ('ru', 'Sun'), ('ru', 'Diver'), ('ru', 'SUN'), ('ru', 'DIVER'), ('ru', 'дайвинг'), ('ru', 'клуб')]\n",
      "OrderedDict([('com', 5415421), ('ru', 655795), ('org', 450796), ('net', 344291), ('uk', 278848), ('tk', 239782), ('de', 221502), ('it', 153296), ('pl', 148566), ('php', 132993), ('br', 124763), ('fr', 118230), ('es', 96514), ('vn', 84923), ('ua', 84674), ('au', 82163), ('cz', 78586), ('in', 70411), ('ca', 65540), ('eu', 64481), ('ml', 62150), ('jp', 51879), ('me', 49591), ('ir', 43307), ('nl', 40921), ('se', 36271), ('at', 34689), ('tr', 33270), ('co', 32383), ('ro', 31750), ('be', 30455), ('pt', 30171), ('ar', 28175), ('hu', 26941), ('nz', 26279), ('us', 25908), ('gr', 24994), ('edu', 24608), ('is', 24104), ('cn', 23176), ('fi', 21882), ('ga', 20954), ('kr', 19454), ('ee', 17110), ('mx', 17024), ('biz', 16930), ('tv', 16844), ('dk', 16226), ('lt', 14642), ('no', 13560), ('za', 13501), ('cc', 12819), ('ch', 12604), ('ie', 12575), ('xyz', 11748), ('gov', 11678), ('gq', 11381), ('sg', 10774), ('kz', 10478), ('by', 10168), ('su', 10014), ('id', 8691), ('fm', 7740), ('az', 7398), ('bg', 7071), ('il', 6758), ('tw', 6554), ('pro', 5822), ('sk', 5722), ('rs', 5509), ('lv', 5377), ('si', 5285), ('cat', 5150), ('hk', 4695), ('nu', 4505), ('top', 4385), ('va', 3947), ('pe', 3607), ('cl', 3588), ('htm', 3502), ('eg', 3383), ('cfm', 3002), ('my', 2982), ('pk', 2889), ('eus', 2831), ('pw', 2535), ('hr', 2405), ('nsf', 2304), ('mk', 2150), ('fo', 2137), ('uy', 2125), ('int', 2064), ('xxx', 2058), ('io', 2045), ('win', 1992), ('am', 1834), ('th', 1766), ('cu', 1766), ('ae', 1685), ('ng', 1575), ('lu', 1492), ('lb', 1324), ('tl', 1248), ('sf', 1222), ('ba', 1064), ('ps', 1046), ('ec', 917), ('md', 853), ('jpg', 833), ('en', 808), ('mu', 725), ('zm', 721), ('jo', 646), ('mil', 629), ('zw', 621), ('ve', 620), ('bw', 604), ('ph', 519), ('sa', 515), ('cx', 429), ('ws', 426), ('bt', 396), ('to', 383), ('ac', 367), ('bz', 353), ('gs', 351), ('cgi', 332), ('ma', 324), ('lol', 296), ('lk', 283), ('mn', 251), ('sh', 219), ('py', 218), ('ink', 178), ('woa', 167), ('ge', 154), ('pa', 152), ('tn', 150), ('exe', 106), ('st', 75), ('ag', 39), ('vip', 37)])\n",
      "{'php': 132993, 'ru': 655795, 'org': 450796, 'it': 153296, 'net': 344291, 'de': 221502, 'uk': 278848, 'com': 5415421, 'tk': 239782, 'pl': 148566}\n",
      "Results:\n",
      "php\n",
      "[('the', 1963), ('and', 1625), ('to', 1214), ('of', 1146), ('a', 1064), ('de', 1004), ('-', 920), ('in', 677), ('FMN', 600), ('is', 567), ('by', 505), ('for', 463), ('', 452), ('и', 442), ('The', 382), ('BM', 380), ('в', 360), ('that', 340), ('&', 308), ('at', 293)]\n",
      "ru\n",
      "[('-', 12182), ('и', 11374), ('в', 10871), ('на', 5895), ('|', 5373), ('с', 4198), ('для', 4167), ('', 4035), ('PAGE', 3708), ('по', 2788), ('стр.', 2465), ('не', 2434), ('1', 2142), ('В', 1811), ('из', 1591), ('от', 1589), ('за', 1415), ('руб.', 1366), ('о', 1313), ('к', 1310)]\n",
      "org\n",
      "[('the', 6980), ('and', 5900), ('of', 5231), ('to', 5193), ('a', 3978), ('in', 3895), ('de', 3220), ('-', 2863), ('', 2500), ('for', 2349), ('is', 1875), ('&', 1723), ('on', 1722), ('|', 1672), (':', 1573), ('la', 1447), ('The', 1376), ('by', 1368), ('with', 1251), ('that', 1119)]\n",
      "it\n",
      "[('di', 2601), ('-', 2229), ('e', 1932), ('la', 1362), ('a', 1311), ('il', 959), ('in', 948), ('', 906), ('on', 879), ('2017', 841), ('per', 818), ('at', 749), ('de', 739), ('Reply', 713), ('said:', 704), ('↓', 704), ('un', 666), ('le', 643), ('che', 633), (':', 633)]\n",
      "net\n",
      "[('', 7244), ('=>', 5943), ('the', 3643), ('and', 2539), ('of', 2480), ('to', 2456), ('-', 2112), ('in', 1933), ('a', 1912), ('|', 1747), ('de', 1421), ('on', 1305), ('for', 1223), ('is', 1191), ('0', 1140), (':', 1010), ('by', 922), ('»', 851), ('/', 821), ('at', 816)]\n",
      "de\n",
      "[('-', 3523), ('und', 2641), ('der', 1802), ('die', 1628), ('in', 1326), ('1', 1095), ('von', 1033), ('', 1032), ('2', 953), ('3', 937), ('für', 935), ('4', 914), ('de', 836), ('/', 836), ('5', 831), ('mit', 816), ('&', 800), ('zu', 755), ('Sie', 736), ('6', 708)]\n",
      "uk\n",
      "[('the', 5886), ('and', 4835), ('to', 4316), ('of', 3501), ('a', 3501), ('in', 2581), ('Boom', 2283), ('Bucket', 2176), ('-', 1969), ('is', 1810), ('Arm', 1765), ('Kit', 1572), ('for', 1567), ('The', 1438), ('Cylinder', 1434), ('with', 1357), ('on', 1209), ('Lift', 1200), ('&', 1160), ('►', 1106)]\n",
      "com\n",
      "[('►', 77197), ('the', 68273), ('-', 58910), ('(1)', 50814), ('to', 50533), ('and', 50232), ('a', 45204), ('of', 42329), ('de', 31949), ('in', 29687), ('', 22626), ('for', 21298), ('(2)', 20136), ('|', 19912), ('I', 18670), ('&', 18630), ('The', 18622), ('is', 18032), ('on', 16378), ('by', 13787)]\n",
      "tk\n",
      "[('file', 10382), ('|', 8885), ('the', 5876), ('is', 5752), ('short', 5641), ('description', 5581), ('about', 4912), ('Not', 4796), ('available', 4788), ('and', 4743), ('of', 3686), ('PDF', 3191), ('pdf', 3188), ('in', 2397), ('doc', 2392), ('DOC', 2392), ('a', 1784), ('to', 1626), ('*', 1597), ('for', 1542)]\n",
      "pl\n",
      "[('i', 2438), ('w', 2421), ('-', 1568), ('>', 1560), ('z', 1454), ('na', 1442), ('do', 1327), ('to', 855), ('the', 771), ('Województwo', 754), ('się', 701), ('zł', 605), ('+', 557), ('a', 541), ('o', 520), ('|', 489), ('and', 463), ('', 459), ('»', 456), ('dla', 423)]\n"
     ]
    }
   ],
   "source": [
    "## Example #2 - Group by TLD and compute most common words for each ##\n",
    "\n",
    "ex = \"WARC-Type: conversion\\\n",
    "WARC-Target-URI: http://news.bbc.co.uk/2/hi/africa/3414345.stm\\\n",
    "WARC-Date: 2014-08-02T09:52:13Z\"\n",
    "\n",
    "p = re.compile('WARC-Target-URI: \\S+\\.([a-zA-Z]{2,3})/', re.IGNORECASE)\n",
    "# print(p.search(ex).group(1))\n",
    "# uk\n",
    "\n",
    "def get_tld(content):\n",
    "    match = p.search(content)\n",
    "    if match is not None:\n",
    "        return match.group(1)\n",
    "    else:\n",
    "        return None\n",
    "\n",
    "words_by_tld_rdd = rdd\\\n",
    ".map(lambda filename_content: filename_content[1])\\\n",
    ".map(lambda content: (get_tld(content), content.partition('\\r\\n\\r\\n')[2]))\\\n",
    ".filter(lambda tld_content: tld_content[0] is not None)\\\n",
    ".flatMapValues(lambda words: words.split(' '))\\\n",
    ".flatMapValues(lambda words: words.split('\\n'))\\\n",
    ".mapValues(lambda word: word.strip())\n",
    "#.take(10)\n",
    "\n",
    "print(words_by_tld_rdd.take(10))\n",
    "\n",
    "tlds = words_by_tld_rdd.countByKey()\n",
    "#print(tlds)\n",
    "\n",
    "tlds = OrderedDict(sorted(tlds.items(), key = itemgetter(1), reverse = True))\n",
    "print(tlds)  \n",
    "\n",
    "top_tlds = dict(itertools.islice(tlds.items(), 10))\n",
    "\n",
    "print(top_tlds)\n",
    "\n",
    "print(\"Results:\")\n",
    "\n",
    "for tld in top_tlds:\n",
    "    print(tld)\n",
    "    top_words_for_tld = words_by_tld_rdd\\\n",
    "        .filter(lambda tld_word: tld_word[0] == tld)\\\n",
    "        .values()\\\n",
    "        .map(lambda w: (w,1))\\\n",
    "        .reduceByKey(add)\\\n",
    "        .takeOrdered(20, key=lambda x: -x[1])\n",
    "    print(top_words_for_tld)"
   ]
  },
  {
   "cell_type": "code",
   "execution_count": null,
   "metadata": {},
   "outputs": [],
   "source": []
  },
  {
   "cell_type": "code",
   "execution_count": null,
   "metadata": {},
   "outputs": [],
   "source": [
    "#file_content = rdd.take(1)[0][1]\n",
    "#print(file_content.partition('\\r\\n\\r\\n')[2])\n",
    "from operator import add\n",
    "import re\n",
    "\n",
    "ex = \"WARC-Type: conversion\\\n",
    "WARC-Target-URI: http://news.bbc.co.uk/2/hi/africa/3414345.stm\\\n",
    "WARC-Date: 2014-08-02T09:52:13Z\"\n",
    "\n",
    "p = re.compile('WARC-Target-URI: \\S+\\.(([a-zA-Z]{2,3}}\\.)?[a-zA-Z]{2,3}})/', re.IGNORECASE)\n",
    "\n",
    "print(p.search(ex))\n",
    "\n",
    "#print(bool(p.search('\\nWARC-Target-URI:\\n')))\n",
    "\n",
    "#rdd\\\n",
    "#.filter(lambda doc: bool(p.search(doc[1])))\\\n",
    "#.map(lambda filename_content: filename_content[1].partition('\\r\\n\\r\\n')[2])\\\n",
    "#.flatMap(lambda t: t.split(' '))\\\n",
    "#.flatMap(lambda w: w.split('\\n'))\\\n",
    "#.map(lambda w: w.strip())\\\n",
    "#.map(lambda w: (w,1))\\\n",
    "#.reduceByKey(add)\\\n",
    "#.takeOrdered(100, key=lambda x: -x[1])\n",
    "#.take(100)\n",
    "#.take(10)\n",
    "#.flatMap(lambda text: text.split(' ')).take(100)"
   ]
  },
  {
   "cell_type": "code",
   "execution_count": null,
   "metadata": {},
   "outputs": [],
   "source": [
    "spark_session.stop()"
   ]
  },
  {
   "cell_type": "code",
   "execution_count": null,
   "metadata": {},
   "outputs": [],
   "source": []
  }
 ],
 "metadata": {
  "kernelspec": {
   "display_name": "Python 3",
   "language": "python",
   "name": "python3"
  },
  "language_info": {
   "codemirror_mode": {
    "name": "ipython",
    "version": 3
   },
   "file_extension": ".py",
   "mimetype": "text/x-python",
   "name": "python",
   "nbconvert_exporter": "python",
   "pygments_lexer": "ipython3",
   "version": "3.5.2"
  }
 },
 "nbformat": 4,
 "nbformat_minor": 2
}
