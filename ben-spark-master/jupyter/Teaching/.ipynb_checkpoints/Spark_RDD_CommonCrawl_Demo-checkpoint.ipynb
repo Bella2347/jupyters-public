{
 "cells": [
  {
   "cell_type": "code",
   "execution_count": null,
   "metadata": {},
   "outputs": [],
   "source": [
    "spark_session.stop()"
   ]
  },
  {
   "cell_type": "code",
   "execution_count": 56,
   "metadata": {},
   "outputs": [],
   "source": [
    "from pprint import pprint\n",
    "from operator import add"
   ]
  },
  {
   "cell_type": "code",
   "execution_count": null,
   "metadata": {},
   "outputs": [],
   "source": [
    "from pyspark.sql import SparkSession\n",
    "\n",
    "# (8 cores, 16gb per machine) x 5\n",
    "\n",
    "# New API\n",
    "spark_session = SparkSession\\\n",
    "        .builder\\\n",
    "        .master(\"spark://ben-spark-master:7077\") \\\n",
    "        .config('spark.executor.memory', '2g') \\\n",
    "        .config('spark.driver.maxResultSize', 0) \\\n",
    "        .appName(\"common_crawl\")\\\n",
    "        .getOrCreate()\n",
    "#        .config('spark.executor.cores', 2)\\\n",
    "\n",
    "\n",
    "# Old API (RDD)\n",
    "spark_context = spark_session.sparkContext\n",
    "\n",
    "rdd = spark_context.textFiles('/mnt/nfs/ben-spark-master/teaching/crawl/CC-MAIN-2018-03/foo/CC-MAIN-20180317035630-20180317055630-00000.warc.wet/100*').cache()\n",
    "rdd.count()"
   ]
  },
  {
   "cell_type": "code",
   "execution_count": 9,
   "metadata": {},
   "outputs": [
    {
     "name": "stdout",
     "output_type": "stream",
     "text": [
      "http://ben-spark-master:4040\n"
     ]
    }
   ],
   "source": [
    "print(spark_context.uiWebUrl)"
   ]
  },
  {
   "cell_type": "code",
   "execution_count": 51,
   "metadata": {},
   "outputs": [
    {
     "data": {
      "text/plain": [
       "[('file:/mnt/nfs/ben-spark-master/teaching/crawl/CC-MAIN-2018-03/foo/CC-MAIN-20180317035630-20180317055630-00000.warc.wet/1014',\n",
       "  'WARC/1.0\\r\\nWARC-Type: conversion\\r\\nWARC-Target-URI: http://angelofdeath.info/tag/rivitalo/\\r\\nWARC-Date: 2018-03-17T04:36:07Z\\r\\nWARC-Record-ID: <urn:uuid:bcf2b776-885d-40aa-8794-b735e0edcd95>\\r\\nWARC-Refers-To: <urn:uuid:4180f1a2-bb55-4733-be49-438167fd58ce>\\r\\nWARC-Block-Digest: sha1:DTMEUXIG655VC55AKIZV4DGBRQC7DNZ3\\r\\nContent-Type: text/plain\\r\\nContent-Length: 1725\\r\\n\\r\\nrivitalo\\nangelofdeath.info\\nHome\\nAbout\\nContact\\nRivitalo\\n<<== Rivitalo ==>>\\nvuokrataan rivitalo Haapavesi\\n4 mh Rivitalo Benalmadena asunnossa 3… vuokra rio guadalquivir.\\nmyytävät asunnot taka töölö Kuhmo\\nKatso myytävät asunnot Helsinki, Taka-Töölö ja niiden esittelyajat tästä com:issa juuri nyt 127 kohdetta tuoteryhmässä alueella töölö, helsinki.\\ntrainer 4you Valkeakoski\\nBest 4You Y-tunnus: 21796431 Kotipaikka: LOHJA 4k group 28373204 kangasala.\\nmyytävät yksiöt jyväskylä Sastamala\\nEtuovi kun olet ostamassa myymässä, kiinteistönvälittäjämme yli 100 paikkakunnalla auttavat.\\nkalustettu asunto Kerava\\nKalustetuista väliaikaisasunnoista saa maksaa paljon, mutta vuokrausaika joustaa helposti viihtyisästi kotoisasti.\\nnordea myytävät asunnot Salo\\nMyytävät asunnot Tallenna vahdiksi pinta-ala.\\nvuokrataan talo Virrat\\nEtuovi sisäsauna, suihku, wc, makuuparvi, grillikatos, vene.\\nmyynnissä olevat kesämökit Viitasaari\\n06 hermanni, violankatu 7, 00530 helsinki, 3 h + keittiö, 71,5 m2.\\nkaupungin vuokra asunnot Laitila\\nPorvoon kaupungin asuntotoimisto, Tekniikankaari 1A, 2 asunnot pääosin rakennettu valtion aravalainalla korkotuella.\\nvuokra mökki Suonenjoki\\nKuopiosta 50 km lounaaseen, Suurijärvi 10 m (pituus 3,5 km, leveys 400 m), laituri, matala, hiekotettu mutapohja, oma vene yksityisten vapaat vuokra-asunnot netissä.\\t\\nPics:\\nLinks:\\nnuoren masennus Rauma\\nvr liput eläkeläiset Sastamala\\naleksi 13 kengät Kannusmies sukkahousuissa \\ufeffHelsinki\\niphonen nollaus Loviisa\\naikajana facebook Somero\\ntrans seksitreffit Ylojarvi\\nvuokrataan rivitalo Haapavesi\\nsuomalaiset seksielokuvat Raasepori\\npillu vittu Vaasa\\nmiten tinder poistetaan Iisalmi\\n© 2017. All rights reserved. | Sitemap\\n\\r\\n\\r\\n')]"
      ]
     },
     "execution_count": 51,
     "metadata": {},
     "output_type": "execute_result"
    }
   ],
   "source": [
    "rdd.take(1)"
   ]
  },
  {
   "cell_type": "code",
   "execution_count": 44,
   "metadata": {},
   "outputs": [
    {
     "data": {
      "text/plain": [
       "[('|', 484),\n",
       " ('на', 38),\n",
       " ('να', 37),\n",
       " ('të', 36),\n",
       " ('-', 35),\n",
       " ('', 33),\n",
       " ('в', 33),\n",
       " ('для', 32),\n",
       " ('і', 28),\n",
       " ('2', 28),\n",
       " ('про', 26),\n",
       " ('e', 25),\n",
       " ('i', 20),\n",
       " ('την', 18),\n",
       " ('και', 18),\n",
       " ('до', 18),\n",
       " (':', 17),\n",
       " ('2-ПДФО', 16),\n",
       " ('për', 16),\n",
       " ('довідка', 16),\n",
       " ('довідки', 16),\n",
       " ('në', 15),\n",
       " ('з', 15),\n",
       " ('το', 15),\n",
       " ('Obat', 14),\n",
       " ('не', 14),\n",
       " ('доходи', 14),\n",
       " ('Скільки', 14),\n",
       " ('από', 13),\n",
       " ('2018', 13),\n",
       " ('με', 13),\n",
       " ('μου', 13),\n",
       " ('w', 13),\n",
       " ('за', 12),\n",
       " ('#', 12),\n",
       " ('τα', 12),\n",
       " ('για', 11),\n",
       " ('записка', 11),\n",
       " ('що', 11),\n",
       " ('›', 11),\n",
       " ('діє', 11),\n",
       " ('ПДФО', 11),\n",
       " ('Службова', 11),\n",
       " ('do', 10),\n",
       " ('MORE', 10),\n",
       " ('від', 10),\n",
       " ('INFO', 10),\n",
       " ('Tanjung', 10),\n",
       " ('by', 10),\n",
       " ('του', 10),\n",
       " ('δεν', 10),\n",
       " ('Πιθανότητα', 10),\n",
       " ('дії', 9),\n",
       " ('Barat', 9),\n",
       " ('σας', 9),\n",
       " ('може', 9),\n",
       " ('Tengah', 8),\n",
       " ('që', 8),\n",
       " ('Термін', 8),\n",
       " ('Як', 8),\n",
       " ('News', 8),\n",
       " ('оформлення', 8),\n",
       " ('1', 8),\n",
       " ('Selatan', 8),\n",
       " ('ในปี', 8),\n",
       " ('термін', 8),\n",
       " ('to', 8),\n",
       " ('είναι', 8),\n",
       " ('στο', 8),\n",
       " ('Τι', 7),\n",
       " ('που', 7),\n",
       " ('τη', 7),\n",
       " ('of', 7),\n",
       " ('Tenggara', 7),\n",
       " ('Maluku', 7),\n",
       " ('потрібно', 7),\n",
       " ('це', 7),\n",
       " ('2017', 7),\n",
       " ('бути', 7),\n",
       " ('Довідка', 7),\n",
       " ('οι', 7),\n",
       " ('або', 7),\n",
       " ('pod', 7),\n",
       " ('and', 7),\n",
       " ('dan', 6),\n",
       " ('документ', 6),\n",
       " ('Muara', 6),\n",
       " ('Kalimantan', 6),\n",
       " ('податкової', 6),\n",
       " ('ξενοδοχείου', 6),\n",
       " ('dhe', 6),\n",
       " ('Home', 6),\n",
       " ('організації', 6),\n",
       " ('Jakarta', 6),\n",
       " ('ไอน์สไตน์', 6),\n",
       " ('У', 6),\n",
       " ('видачу', 6),\n",
       " ('คน', 6),\n",
       " ('gatal', 6),\n",
       " ('Jawa', 6)]"
      ]
     },
     "execution_count": 44,
     "metadata": {},
     "output_type": "execute_result"
    }
   ],
   "source": [
    "#file_content = rdd.take(1)[0][1]\n",
    "#print(file_content.partition('\\r\\n\\r\\n')[2])\n",
    "\n",
    "rdd.map(lambda filename_content: filename_content[1].partition('\\r\\n\\r\\n')[2]).flatMap(lambda t: t.split(' '))\\\n",
    ".flatMap(lambda w: w.split('\\n'))\\\n",
    ".map(lambda w: w.strip())\\\n",
    ".map(lambda w: (w,1))\\\n",
    ".reduceByKey(add)\\\n",
    ".takeOrdered(100, key=lambda x: -x[1])\n",
    "#.take(100)\n",
    "#.take(10)\n",
    "#.flatMap(lambda text: text.split(' ')).take(100)"
   ]
  },
  {
   "cell_type": "code",
   "execution_count": 6,
   "metadata": {},
   "outputs": [
    {
     "ename": "KeyboardInterrupt",
     "evalue": "",
     "output_type": "error",
     "traceback": [
      "\u001b[0;31m---------------------------------------------------------------------------\u001b[0m",
      "\u001b[0;31mKeyboardInterrupt\u001b[0m                         Traceback (most recent call last)",
      "\u001b[0;32m<ipython-input-6-11352f4c967c>\u001b[0m in \u001b[0;36m<module>\u001b[0;34m()\u001b[0m\n\u001b[0;32m----> 1\u001b[0;31m \u001b[0mrdd\u001b[0m\u001b[0;34m.\u001b[0m\u001b[0mmap\u001b[0m\u001b[0;34m(\u001b[0m\u001b[0;32mlambda\u001b[0m \u001b[0mfilename_content\u001b[0m\u001b[0;34m:\u001b[0m \u001b[0mfilename_content\u001b[0m\u001b[0;34m[\u001b[0m\u001b[0;36m1\u001b[0m\u001b[0;34m]\u001b[0m\u001b[0;34m.\u001b[0m\u001b[0msplit\u001b[0m\u001b[0;34m(\u001b[0m\u001b[0;34m'WARC/1.0'\u001b[0m\u001b[0;34m)\u001b[0m\u001b[0;34m)\u001b[0m\u001b[0;34m.\u001b[0m\u001b[0mcache\u001b[0m\u001b[0;34m(\u001b[0m\u001b[0;34m)\u001b[0m\u001b[0;34m.\u001b[0m\u001b[0mtake\u001b[0m\u001b[0;34m(\u001b[0m\u001b[0;36m1\u001b[0m\u001b[0;34m)\u001b[0m\u001b[0;34m\u001b[0m\u001b[0m\n\u001b[0m",
      "\u001b[0;32m~/.local/lib/python3.5/site-packages/pyspark/rdd.py\u001b[0m in \u001b[0;36mtake\u001b[0;34m(self, num)\u001b[0m\n\u001b[1;32m   1356\u001b[0m \u001b[0;34m\u001b[0m\u001b[0m\n\u001b[1;32m   1357\u001b[0m             \u001b[0mp\u001b[0m \u001b[0;34m=\u001b[0m \u001b[0mrange\u001b[0m\u001b[0;34m(\u001b[0m\u001b[0mpartsScanned\u001b[0m\u001b[0;34m,\u001b[0m \u001b[0mmin\u001b[0m\u001b[0;34m(\u001b[0m\u001b[0mpartsScanned\u001b[0m \u001b[0;34m+\u001b[0m \u001b[0mnumPartsToTry\u001b[0m\u001b[0;34m,\u001b[0m \u001b[0mtotalParts\u001b[0m\u001b[0;34m)\u001b[0m\u001b[0;34m)\u001b[0m\u001b[0;34m\u001b[0m\u001b[0m\n\u001b[0;32m-> 1358\u001b[0;31m             \u001b[0mres\u001b[0m \u001b[0;34m=\u001b[0m \u001b[0mself\u001b[0m\u001b[0;34m.\u001b[0m\u001b[0mcontext\u001b[0m\u001b[0;34m.\u001b[0m\u001b[0mrunJob\u001b[0m\u001b[0;34m(\u001b[0m\u001b[0mself\u001b[0m\u001b[0;34m,\u001b[0m \u001b[0mtakeUpToNumLeft\u001b[0m\u001b[0;34m,\u001b[0m \u001b[0mp\u001b[0m\u001b[0;34m)\u001b[0m\u001b[0;34m\u001b[0m\u001b[0m\n\u001b[0m\u001b[1;32m   1359\u001b[0m \u001b[0;34m\u001b[0m\u001b[0m\n\u001b[1;32m   1360\u001b[0m             \u001b[0mitems\u001b[0m \u001b[0;34m+=\u001b[0m \u001b[0mres\u001b[0m\u001b[0;34m\u001b[0m\u001b[0m\n",
      "\u001b[0;32m~/.local/lib/python3.5/site-packages/pyspark/context.py\u001b[0m in \u001b[0;36mrunJob\u001b[0;34m(self, rdd, partitionFunc, partitions, allowLocal)\u001b[0m\n\u001b[1;32m    999\u001b[0m         \u001b[0;31m# SparkContext#runJob.\u001b[0m\u001b[0;34m\u001b[0m\u001b[0;34m\u001b[0m\u001b[0m\n\u001b[1;32m   1000\u001b[0m         \u001b[0mmappedRDD\u001b[0m \u001b[0;34m=\u001b[0m \u001b[0mrdd\u001b[0m\u001b[0;34m.\u001b[0m\u001b[0mmapPartitions\u001b[0m\u001b[0;34m(\u001b[0m\u001b[0mpartitionFunc\u001b[0m\u001b[0;34m)\u001b[0m\u001b[0;34m\u001b[0m\u001b[0m\n\u001b[0;32m-> 1001\u001b[0;31m         \u001b[0mport\u001b[0m \u001b[0;34m=\u001b[0m \u001b[0mself\u001b[0m\u001b[0;34m.\u001b[0m\u001b[0m_jvm\u001b[0m\u001b[0;34m.\u001b[0m\u001b[0mPythonRDD\u001b[0m\u001b[0;34m.\u001b[0m\u001b[0mrunJob\u001b[0m\u001b[0;34m(\u001b[0m\u001b[0mself\u001b[0m\u001b[0;34m.\u001b[0m\u001b[0m_jsc\u001b[0m\u001b[0;34m.\u001b[0m\u001b[0msc\u001b[0m\u001b[0;34m(\u001b[0m\u001b[0;34m)\u001b[0m\u001b[0;34m,\u001b[0m \u001b[0mmappedRDD\u001b[0m\u001b[0;34m.\u001b[0m\u001b[0m_jrdd\u001b[0m\u001b[0;34m,\u001b[0m \u001b[0mpartitions\u001b[0m\u001b[0;34m)\u001b[0m\u001b[0;34m\u001b[0m\u001b[0m\n\u001b[0m\u001b[1;32m   1002\u001b[0m         \u001b[0;32mreturn\u001b[0m \u001b[0mlist\u001b[0m\u001b[0;34m(\u001b[0m\u001b[0m_load_from_socket\u001b[0m\u001b[0;34m(\u001b[0m\u001b[0mport\u001b[0m\u001b[0;34m,\u001b[0m \u001b[0mmappedRDD\u001b[0m\u001b[0;34m.\u001b[0m\u001b[0m_jrdd_deserializer\u001b[0m\u001b[0;34m)\u001b[0m\u001b[0;34m)\u001b[0m\u001b[0;34m\u001b[0m\u001b[0m\n\u001b[1;32m   1003\u001b[0m \u001b[0;34m\u001b[0m\u001b[0m\n",
      "\u001b[0;32m~/.local/lib/python3.5/site-packages/py4j/java_gateway.py\u001b[0m in \u001b[0;36m__call__\u001b[0;34m(self, *args)\u001b[0m\n\u001b[1;32m   1156\u001b[0m             \u001b[0mproto\u001b[0m\u001b[0;34m.\u001b[0m\u001b[0mEND_COMMAND_PART\u001b[0m\u001b[0;34m\u001b[0m\u001b[0m\n\u001b[1;32m   1157\u001b[0m \u001b[0;34m\u001b[0m\u001b[0m\n\u001b[0;32m-> 1158\u001b[0;31m         \u001b[0manswer\u001b[0m \u001b[0;34m=\u001b[0m \u001b[0mself\u001b[0m\u001b[0;34m.\u001b[0m\u001b[0mgateway_client\u001b[0m\u001b[0;34m.\u001b[0m\u001b[0msend_command\u001b[0m\u001b[0;34m(\u001b[0m\u001b[0mcommand\u001b[0m\u001b[0;34m)\u001b[0m\u001b[0;34m\u001b[0m\u001b[0m\n\u001b[0m\u001b[1;32m   1159\u001b[0m         return_value = get_return_value(\n\u001b[1;32m   1160\u001b[0m             answer, self.gateway_client, self.target_id, self.name)\n",
      "\u001b[0;32m~/.local/lib/python3.5/site-packages/py4j/java_gateway.py\u001b[0m in \u001b[0;36msend_command\u001b[0;34m(self, command, retry, binary)\u001b[0m\n\u001b[1;32m    906\u001b[0m         \u001b[0mconnection\u001b[0m \u001b[0;34m=\u001b[0m \u001b[0mself\u001b[0m\u001b[0;34m.\u001b[0m\u001b[0m_get_connection\u001b[0m\u001b[0;34m(\u001b[0m\u001b[0;34m)\u001b[0m\u001b[0;34m\u001b[0m\u001b[0m\n\u001b[1;32m    907\u001b[0m         \u001b[0;32mtry\u001b[0m\u001b[0;34m:\u001b[0m\u001b[0;34m\u001b[0m\u001b[0m\n\u001b[0;32m--> 908\u001b[0;31m             \u001b[0mresponse\u001b[0m \u001b[0;34m=\u001b[0m \u001b[0mconnection\u001b[0m\u001b[0;34m.\u001b[0m\u001b[0msend_command\u001b[0m\u001b[0;34m(\u001b[0m\u001b[0mcommand\u001b[0m\u001b[0;34m)\u001b[0m\u001b[0;34m\u001b[0m\u001b[0m\n\u001b[0m\u001b[1;32m    909\u001b[0m             \u001b[0;32mif\u001b[0m \u001b[0mbinary\u001b[0m\u001b[0;34m:\u001b[0m\u001b[0;34m\u001b[0m\u001b[0m\n\u001b[1;32m    910\u001b[0m                 \u001b[0;32mreturn\u001b[0m \u001b[0mresponse\u001b[0m\u001b[0;34m,\u001b[0m \u001b[0mself\u001b[0m\u001b[0;34m.\u001b[0m\u001b[0m_create_connection_guard\u001b[0m\u001b[0;34m(\u001b[0m\u001b[0mconnection\u001b[0m\u001b[0;34m)\u001b[0m\u001b[0;34m\u001b[0m\u001b[0m\n",
      "\u001b[0;32m~/.local/lib/python3.5/site-packages/py4j/java_gateway.py\u001b[0m in \u001b[0;36msend_command\u001b[0;34m(self, command)\u001b[0m\n\u001b[1;32m   1053\u001b[0m \u001b[0;34m\u001b[0m\u001b[0m\n\u001b[1;32m   1054\u001b[0m         \u001b[0;32mtry\u001b[0m\u001b[0;34m:\u001b[0m\u001b[0;34m\u001b[0m\u001b[0m\n\u001b[0;32m-> 1055\u001b[0;31m             \u001b[0manswer\u001b[0m \u001b[0;34m=\u001b[0m \u001b[0msmart_decode\u001b[0m\u001b[0;34m(\u001b[0m\u001b[0mself\u001b[0m\u001b[0;34m.\u001b[0m\u001b[0mstream\u001b[0m\u001b[0;34m.\u001b[0m\u001b[0mreadline\u001b[0m\u001b[0;34m(\u001b[0m\u001b[0;34m)\u001b[0m\u001b[0;34m[\u001b[0m\u001b[0;34m:\u001b[0m\u001b[0;34m-\u001b[0m\u001b[0;36m1\u001b[0m\u001b[0;34m]\u001b[0m\u001b[0;34m)\u001b[0m\u001b[0;34m\u001b[0m\u001b[0m\n\u001b[0m\u001b[1;32m   1056\u001b[0m             \u001b[0mlogger\u001b[0m\u001b[0;34m.\u001b[0m\u001b[0mdebug\u001b[0m\u001b[0;34m(\u001b[0m\u001b[0;34m\"Answer received: {0}\"\u001b[0m\u001b[0;34m.\u001b[0m\u001b[0mformat\u001b[0m\u001b[0;34m(\u001b[0m\u001b[0manswer\u001b[0m\u001b[0;34m)\u001b[0m\u001b[0;34m)\u001b[0m\u001b[0;34m\u001b[0m\u001b[0m\n\u001b[1;32m   1057\u001b[0m             \u001b[0;32mif\u001b[0m \u001b[0manswer\u001b[0m\u001b[0;34m.\u001b[0m\u001b[0mstartswith\u001b[0m\u001b[0;34m(\u001b[0m\u001b[0mproto\u001b[0m\u001b[0;34m.\u001b[0m\u001b[0mRETURN_MESSAGE\u001b[0m\u001b[0;34m)\u001b[0m\u001b[0;34m:\u001b[0m\u001b[0;34m\u001b[0m\u001b[0m\n",
      "\u001b[0;32m/usr/lib/python3.5/socket.py\u001b[0m in \u001b[0;36mreadinto\u001b[0;34m(self, b)\u001b[0m\n\u001b[1;32m    573\u001b[0m         \u001b[0;32mwhile\u001b[0m \u001b[0;32mTrue\u001b[0m\u001b[0;34m:\u001b[0m\u001b[0;34m\u001b[0m\u001b[0m\n\u001b[1;32m    574\u001b[0m             \u001b[0;32mtry\u001b[0m\u001b[0;34m:\u001b[0m\u001b[0;34m\u001b[0m\u001b[0m\n\u001b[0;32m--> 575\u001b[0;31m                 \u001b[0;32mreturn\u001b[0m \u001b[0mself\u001b[0m\u001b[0;34m.\u001b[0m\u001b[0m_sock\u001b[0m\u001b[0;34m.\u001b[0m\u001b[0mrecv_into\u001b[0m\u001b[0;34m(\u001b[0m\u001b[0mb\u001b[0m\u001b[0;34m)\u001b[0m\u001b[0;34m\u001b[0m\u001b[0m\n\u001b[0m\u001b[1;32m    576\u001b[0m             \u001b[0;32mexcept\u001b[0m \u001b[0mtimeout\u001b[0m\u001b[0;34m:\u001b[0m\u001b[0;34m\u001b[0m\u001b[0m\n\u001b[1;32m    577\u001b[0m                 \u001b[0mself\u001b[0m\u001b[0;34m.\u001b[0m\u001b[0m_timeout_occurred\u001b[0m \u001b[0;34m=\u001b[0m \u001b[0;32mTrue\u001b[0m\u001b[0;34m\u001b[0m\u001b[0m\n",
      "\u001b[0;31mKeyboardInterrupt\u001b[0m: "
     ]
    }
   ],
   "source": [
    "rdd.map(lambda filename_content: filename_content[1].split('WARC/1.0')).cache().take(1)"
   ]
  },
  {
   "cell_type": "code",
   "execution_count": null,
   "metadata": {},
   "outputs": [],
   "source": [
    "rdd.take(1)[0]"
   ]
  },
  {
   "cell_type": "code",
   "execution_count": null,
   "metadata": {},
   "outputs": [],
   "source": []
  }
 ],
 "metadata": {
  "kernelspec": {
   "display_name": "Python 3",
   "language": "python",
   "name": "python3"
  },
  "language_info": {
   "codemirror_mode": {
    "name": "ipython",
    "version": 3
   },
   "file_extension": ".py",
   "mimetype": "text/x-python",
   "name": "python",
   "nbconvert_exporter": "python",
   "pygments_lexer": "ipython3",
   "version": "3.5.2"
  }
 },
 "nbformat": 4,
 "nbformat_minor": 2
}
