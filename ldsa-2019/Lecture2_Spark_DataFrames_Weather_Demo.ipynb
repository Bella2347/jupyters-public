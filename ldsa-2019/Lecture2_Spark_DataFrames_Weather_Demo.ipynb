{
 "cells": [
  {
   "cell_type": "code",
   "execution_count": 5,
   "metadata": {},
   "outputs": [],
   "source": [
    "from pprint import pprint\n",
    "from pyspark.sql import SparkSession\n",
    "\n",
    "# New API\n",
    "spark_session = SparkSession\\\n",
    "        .builder\\\n",
    "        .master(\"spark://192.168.1.19:7077\") \\\n",
    "        .appName(\"read_weather_data\")\\\n",
    "        .getOrCreate()\n",
    "\n",
    "# Old API (RDD)\n",
    "spark_context = spark_session.sparkContext\n",
    "\n",
    "data_frame = spark_session.read\\\n",
    "    .option(\"header\", \"true\")\\\n",
    "    .csv('hdfs://192.168.1.19:9000/weather.csv')\\\n",
    "    .cache()"
   ]
  },
  {
   "cell_type": "code",
   "execution_count": 6,
   "metadata": {},
   "outputs": [
    {
     "data": {
      "text/plain": [
       "'http://ben-uppmax-haste-spark-master:4040'"
      ]
     },
     "execution_count": 6,
     "metadata": {},
     "output_type": "execute_result"
    }
   ],
   "source": [
    "spark_context.uiWebUrl"
   ]
  },
  {
   "cell_type": "code",
   "execution_count": 7,
   "metadata": {},
   "outputs": [
    {
     "data": {
      "text/plain": [
       "8673817"
      ]
     },
     "execution_count": 7,
     "metadata": {},
     "output_type": "execute_result"
    }
   ],
   "source": [
    "# Count the files:\n",
    "#$ find -type f | wc -l\n",
    "# 2546\n",
    "\n",
    "# Count the lines in 1 file:\n",
    "# $cat 10224099999.csv | wc -l\n",
    "# 8756\n",
    "\n",
    "# Count the CSV rows:\n",
    "data_frame.count()"
   ]
  },
  {
   "cell_type": "code",
   "execution_count": 8,
   "metadata": {},
   "outputs": [
    {
     "name": "stdout",
     "output_type": "stream",
     "text": [
      "+-----------+-------------------+------+--------+----------+---------+---------------+-----------+---------+---------------+--------------+-----------+------------+-------+-------+-------+-----------+--------+--------------------+-------------+----+----+\n",
      "|    STATION|               DATE|SOURCE|LATITUDE| LONGITUDE|ELEVATION|           NAME|REPORT_TYPE|CALL_SIGN|QUALITY_CONTROL|           WND|        CIG|         VIS|    TMP|    DEW|    SLP|        AA1|     AY1|                 GF1|          KA1| MW1| EQD|\n",
      "+-----------+-------------------+------+--------+----------+---------+---------------+-----------+---------+---------------+--------------+-----------+------------+-------+-------+-------+-----------+--------+--------------------+-------------+----+----+\n",
      "|01199099999|1950-01-01T07:00:00|     4|   68.75|23.5333333|    382.0|SIHCCAJAVRI, NO|      FM-12|    99999|           V020|160,1,N,0026,1|99999,9,9,N|999999,9,N,9|-0161,1|+9999,9|99999,9|99,0020,9,1|7,1,99,9|08,99,1,99,9,99,9...|999,N,-0228,1|73,1|null|\n",
      "|01199099999|1950-01-01T12:00:00|     4|   68.75|23.5333333|    382.0|SIHCCAJAVRI, NO|      FM-12|    99999|           V020|140,1,N,0026,1|22000,1,C,N|999999,9,N,9|-0178,1|+9999,9|99999,9|       null|0,1,99,9|04,99,1,99,9,99,9...|         null|00,1|null|\n",
      "|01199099999|1950-01-01T18:00:00|     4|   68.75|23.5333333|    382.0|SIHCCAJAVRI, NO|      FM-12|    99999|           V020|090,1,N,0026,1|22000,1,C,N|999999,9,N,9|-0228,1|+9999,9|99999,9|       null|0,1,99,9|04,99,1,99,9,99,9...|         null|00,1|null|\n",
      "|01199099999|1950-01-02T07:00:00|     4|   68.75|23.5333333|    382.0|SIHCCAJAVRI, NO|      FM-12|    99999|           V020|100,1,N,0010,1|22000,1,C,N|999999,9,N,9|-0261,1|+9999,9|99999,9|       null|0,1,99,9|04,99,1,99,9,99,9...|999,N,-0350,1|00,1|null|\n",
      "|01199099999|1950-01-02T12:00:00|     4|   68.75|23.5333333|    382.0|SIHCCAJAVRI, NO|      FM-12|    99999|           V020|100,1,N,0010,1|22000,1,C,N|999999,9,N,9|-0261,1|+9999,9|99999,9|       null|0,1,99,9|03,99,1,99,9,99,9...|         null|00,1|null|\n",
      "|01199099999|1950-01-02T18:00:00|     4|   68.75|23.5333333|    382.0|SIHCCAJAVRI, NO|      FM-12|    99999|           V020|180,1,N,0010,1|22000,1,C,N|999999,9,N,9|-0300,1|+9999,9|99999,9|       null|0,1,99,9|04,99,1,99,9,99,9...|         null|00,1|null|\n",
      "|01199099999|1950-01-03T07:00:00|     4|   68.75|23.5333333|    382.0|SIHCCAJAVRI, NO|      FM-12|    99999|           V020|250,1,N,0026,1|22000,1,C,N|999999,9,N,9|-0289,1|+9999,9|99999,9|       null|0,1,99,9|04,99,1,99,9,99,9...|999,N,-0339,1|00,1|null|\n",
      "|01199099999|1950-01-03T12:00:00|     4|   68.75|23.5333333|    382.0|SIHCCAJAVRI, NO|      FM-12|    99999|           V020|240,1,N,0026,1|22000,1,C,N|999999,9,N,9|-0311,1|+9999,9|99999,9|       null|0,1,99,9|02,99,1,99,9,99,9...|         null|00,1|null|\n",
      "|01199099999|1950-01-03T18:00:00|     4|   68.75|23.5333333|    382.0|SIHCCAJAVRI, NO|      FM-12|    99999|           V020|090,1,N,0010,1|22000,1,C,N|999999,9,N,9|-0250,1|+9999,9|99999,9|       null|0,1,99,9|04,99,1,99,9,99,9...|         null|00,1|null|\n",
      "|01199099999|1950-01-04T07:00:00|     4|   68.75|23.5333333|    382.0|SIHCCAJAVRI, NO|      FM-12|    99999|           V020|200,1,N,0010,1|22000,1,C,N|999999,9,N,9|-0350,1|+9999,9|99999,9|       null|0,1,99,9|03,99,1,99,9,99,9...|999,N,-0361,1|00,1|null|\n",
      "|01199099999|1950-01-04T12:00:00|     4|   68.75|23.5333333|    382.0|SIHCCAJAVRI, NO|      FM-12|    99999|           V020|240,1,N,0026,1|99999,9,9,N|999999,9,N,9|-0272,1|+9999,9|99999,9|       null|0,1,99,9|07,99,1,99,9,99,9...|         null|00,1|null|\n",
      "|01199099999|1950-01-04T18:00:00|     4|   68.75|23.5333333|    382.0|SIHCCAJAVRI, NO|      FM-12|    99999|           V020|270,1,N,0026,1|99999,9,9,N|999999,9,N,9|-0228,1|+9999,9|99999,9|       null|0,1,99,9|07,99,1,99,9,99,9...|         null|00,1|null|\n",
      "|01199099999|1950-01-05T07:00:00|     4|   68.75|23.5333333|    382.0|SIHCCAJAVRI, NO|      FM-12|    99999|           V020|040,1,N,0046,1|99999,9,9,N|999999,9,N,9|-0150,1|+9999,9|99999,9|       null|0,1,99,9|07,99,1,99,9,99,9...|999,N,-0250,1|00,1|null|\n",
      "|01199099999|1950-01-05T12:00:00|     4|   68.75|23.5333333|    382.0|SIHCCAJAVRI, NO|      FM-12|    99999|           V020|040,1,N,0026,1|22000,1,C,N|999999,9,N,9|-0211,1|+9999,9|99999,9|       null|0,1,99,9|01,99,1,99,9,99,9...|         null|00,1|null|\n",
      "|01199099999|1950-01-05T18:00:00|     4|   68.75|23.5333333|    382.0|SIHCCAJAVRI, NO|      FM-12|    99999|           V020|040,1,N,0010,1|99999,9,9,N|999999,9,N,9|-0189,1|+9999,9|99999,9|       null|0,1,99,9|08,99,1,99,9,99,9...|         null|71,1|null|\n",
      "|01199099999|1950-01-06T07:00:00|     4|   68.75|23.5333333|    382.0|SIHCCAJAVRI, NO|      FM-12|    99999|           V020|290,1,N,0010,1|22000,1,C,N|999999,9,N,9|-0289,1|+9999,9|99999,9|99,0005,9,1|0,1,99,9|03,99,1,99,9,99,9...|999,N,-0300,1|10,1|null|\n",
      "|01199099999|1950-01-06T12:00:00|     4|   68.75|23.5333333|    382.0|SIHCCAJAVRI, NO|      FM-12|    99999|           V020|090,1,N,0026,1|22000,1,C,N|999999,9,N,9|-0239,1|+9999,9|99999,9|       null|0,1,99,9|03,99,1,99,9,99,9...|         null|00,1|null|\n",
      "|01199099999|1950-01-06T18:00:00|     4|   68.75|23.5333333|    382.0|SIHCCAJAVRI, NO|      FM-12|    99999|           V020|210,1,N,0010,1|99999,9,9,N|999999,9,N,9|-0228,1|+9999,9|99999,9|       null|0,1,99,9|08,99,1,99,9,99,9...|         null|null|null|\n",
      "|01199099999|1950-01-07T07:00:00|     4|   68.75|23.5333333|    382.0|SIHCCAJAVRI, NO|      FM-12|    99999|           V020|300,1,N,0010,1|99999,9,9,N|999999,9,N,9|-0300,1|+9999,9|99999,9|       null|0,1,99,9|08,99,1,99,9,99,9...|999,N,-0400,1|00,1|null|\n",
      "|01199099999|1950-01-07T12:00:00|     4|   68.75|23.5333333|    382.0|SIHCCAJAVRI, NO|      FM-12|    99999|           V020|210,1,N,0010,1|22000,1,C,N|999999,9,N,9|-0289,1|+9999,9|99999,9|       null|0,1,99,9|03,99,1,99,9,99,9...|         null|00,1|null|\n",
      "+-----------+-------------------+------+--------+----------+---------+---------------+-----------+---------+---------------+--------------+-----------+------------+-------+-------+-------+-----------+--------+--------------------+-------------+----+----+\n",
      "only showing top 20 rows\n",
      "\n"
     ]
    }
   ],
   "source": [
    "data_frame.show()"
   ]
  },
  {
   "cell_type": "code",
   "execution_count": 9,
   "metadata": {},
   "outputs": [
    {
     "name": "stdout",
     "output_type": "stream",
     "text": [
      "root\n",
      " |-- STATION: string (nullable = true)\n",
      " |-- DATE: string (nullable = true)\n",
      " |-- SOURCE: string (nullable = true)\n",
      " |-- LATITUDE: string (nullable = true)\n",
      " |-- LONGITUDE: string (nullable = true)\n",
      " |-- ELEVATION: string (nullable = true)\n",
      " |-- NAME: string (nullable = true)\n",
      " |-- REPORT_TYPE: string (nullable = true)\n",
      " |-- CALL_SIGN: string (nullable = true)\n",
      " |-- QUALITY_CONTROL: string (nullable = true)\n",
      " |-- WND: string (nullable = true)\n",
      " |-- CIG: string (nullable = true)\n",
      " |-- VIS: string (nullable = true)\n",
      " |-- TMP: string (nullable = true)\n",
      " |-- DEW: string (nullable = true)\n",
      " |-- SLP: string (nullable = true)\n",
      " |-- AA1: string (nullable = true)\n",
      " |-- AY1: string (nullable = true)\n",
      " |-- GF1: string (nullable = true)\n",
      " |-- KA1: string (nullable = true)\n",
      " |-- MW1: string (nullable = true)\n",
      " |-- EQD: string (nullable = true)\n",
      "\n"
     ]
    }
   ],
   "source": [
    "data_frame.printSchema()"
   ]
  },
  {
   "cell_type": "code",
   "execution_count": 10,
   "metadata": {},
   "outputs": [
    {
     "data": {
      "text/plain": [
       "[Row(STATION='01199099999', DATE='1950-01-01T07:00:00', SOURCE='4', LATITUDE='68.75', LONGITUDE='23.5333333', ELEVATION='382.0', NAME='SIHCCAJAVRI, NO', REPORT_TYPE='FM-12', CALL_SIGN='99999', QUALITY_CONTROL='V020', WND='160,1,N,0026,1', CIG='99999,9,9,N', VIS='999999,9,N,9', TMP='-0161,1', DEW='+9999,9', SLP='99999,9', AA1='99,0020,9,1', AY1='7,1,99,9', GF1='08,99,1,99,9,99,9,99999,9,99,9,99,9', KA1='999,N,-0228,1', MW1='73,1', EQD=None)]"
      ]
     },
     "execution_count": 10,
     "metadata": {},
     "output_type": "execute_result"
    }
   ],
   "source": [
    "# 'old' RDD API underneath...\n",
    "data_frame.rdd.take(1)"
   ]
  },
  {
   "cell_type": "code",
   "execution_count": 11,
   "metadata": {},
   "outputs": [
    {
     "data": {
      "text/plain": [
       "21"
      ]
     },
     "execution_count": 11,
     "metadata": {},
     "output_type": "execute_result"
    }
   ],
   "source": [
    "data_frame.rdd.getNumPartitions()"
   ]
  },
  {
   "cell_type": "code",
   "execution_count": 12,
   "metadata": {},
   "outputs": [
    {
     "data": {
      "text/plain": [
       "[Row(NAME='BOLGRAD, UP'),\n",
       " Row(NAME='ZHANGIZTOBE, KZ'),\n",
       " Row(NAME='KSARA LEBABON, LE'),\n",
       " Row(NAME='GREAT FALLS AIRPORT, MT US'),\n",
       " Row(NAME='WINSTON SALEM REYNOLDS AIRPORT, NC US'),\n",
       " Row(NAME='PINE BLUFF GRIDER FIELD, AR US'),\n",
       " Row(NAME='PAVELETS, RS'),\n",
       " Row(NAME='PORT SWEETENHAM, MY'),\n",
       " Row(NAME='BLIDA, AG'),\n",
       " Row(NAME='ES SENIA, AG')]"
      ]
     },
     "execution_count": 12,
     "metadata": {},
     "output_type": "execute_result"
    }
   ],
   "source": [
    "# .distinct()\n",
    "data_frame.select('NAME').distinct().take(10)"
   ]
  },
  {
   "cell_type": "code",
   "execution_count": 13,
   "metadata": {},
   "outputs": [
    {
     "data": {
      "text/plain": [
       "2525"
      ]
     },
     "execution_count": 13,
     "metadata": {},
     "output_type": "execute_result"
    }
   ],
   "source": [
    "# .count()\n",
    "data_frame.select('NAME').distinct().count()"
   ]
  },
  {
   "cell_type": "code",
   "execution_count": 14,
   "metadata": {},
   "outputs": [
    {
     "data": {
      "text/plain": [
       "[Row(WND='130,1,N,0026,1'),\n",
       " Row(WND='135,1,N,0026,1'),\n",
       " Row(WND='180,1,N,0036,1'),\n",
       " Row(WND='180,1,N,0036,1'),\n",
       " Row(WND='140,1,N,0021,1'),\n",
       " Row(WND='135,1,N,0021,1'),\n",
       " Row(WND='170,1,N,0026,1'),\n",
       " Row(WND='180,1,N,0026,1'),\n",
       " Row(WND='170,1,N,0026,1'),\n",
       " Row(WND='180,1,N,0026,1')]"
      ]
     },
     "execution_count": 14,
     "metadata": {},
     "output_type": "execute_result"
    }
   ],
   "source": [
    "# .take() (like .show())\n",
    "data_frame.filter('NAME == \"PRESTWICK, UK\"').select('WND').take(10)"
   ]
  },
  {
   "cell_type": "code",
   "execution_count": 16,
   "metadata": {},
   "outputs": [
    {
     "name": "stdout",
     "output_type": "stream",
     "text": [
      "+--------------+------------+\n",
      "|           WND|WND_SPEED_MS|\n",
      "+--------------+------------+\n",
      "|160,1,N,0026,1|         2.6|\n",
      "|140,1,N,0026,1|         2.6|\n",
      "|090,1,N,0026,1|         2.6|\n",
      "|100,1,N,0010,1|         1.0|\n",
      "|100,1,N,0010,1|         1.0|\n",
      "|180,1,N,0010,1|         1.0|\n",
      "|250,1,N,0026,1|         2.6|\n",
      "|240,1,N,0026,1|         2.6|\n",
      "|090,1,N,0010,1|         1.0|\n",
      "|200,1,N,0010,1|         1.0|\n",
      "|240,1,N,0026,1|         2.6|\n",
      "|270,1,N,0026,1|         2.6|\n",
      "|040,1,N,0046,1|         4.6|\n",
      "|040,1,N,0026,1|         2.6|\n",
      "|040,1,N,0010,1|         1.0|\n",
      "|290,1,N,0010,1|         1.0|\n",
      "|090,1,N,0026,1|         2.6|\n",
      "|210,1,N,0010,1|         1.0|\n",
      "|300,1,N,0010,1|         1.0|\n",
      "|210,1,N,0010,1|         1.0|\n",
      "+--------------+------------+\n",
      "only showing top 20 rows\n",
      "\n",
      "+-------+------------------+\n",
      "|summary|      WND_SPEED_MS|\n",
      "+-------+------------------+\n",
      "|  count|           8601428|\n",
      "|   mean|4.0470310511293395|\n",
      "| stddev|3.2041228109591433|\n",
      "|    min|               0.0|\n",
      "|    25%|               1.5|\n",
      "|    50%|               3.6|\n",
      "|    75%|               5.7|\n",
      "|    max|               9.8|\n",
      "+-------+------------------+\n",
      "\n"
     ]
    }
   ],
   "source": [
    "# Convert a column\n",
    "\n",
    "import pyspark\n",
    "from pyspark.sql.functions import udf\n",
    "from pyspark.sql.types import StringType\n",
    "\n",
    "def WND_to_WND_SPEED_MS(wnd):\n",
    "  s = wnd.split(',')\n",
    "  if len(s) < 2:\n",
    "        return 999\n",
    "  return float(s[3])/10\n",
    "\n",
    "# User-defined function. Input type is a string.\n",
    "udf_WND_to_WND_SPEED_MS = udf(WND_to_WND_SPEED_MS, StringType())\n",
    "\n",
    "\n",
    "data_frame_with_wnd_speed = data_frame.withColumn(\"WND_SPEED_MS\",udf_WND_to_WND_SPEED_MS(\"WND\"))\n",
    "\n",
    "\n",
    "\n",
    "# 9999: missing (with scale factor of 10)\n",
    "data_frame_with_wnd_speed = data_frame_with_wnd_speed.filter(data_frame_with_wnd_speed['WND_SPEED_MS'] < 999)\n",
    "\n",
    "#wnd_split = pyspark.sql.functions.split(data_frame['WND'], ',')\n",
    "#data_frame_with_wnd_speed = data_frame.withColumn('WND_SPEED_MS', wnd_split.getItem(3))\n",
    "\n",
    "data_frame_with_wnd_speed.select('WND', 'WND_SPEED_MS').show()\n",
    "\n",
    "data_frame_with_wnd_speed.select('WND_SPEED_MS').summary().show()"
   ]
  },
  {
   "cell_type": "code",
   "execution_count": 17,
   "metadata": {},
   "outputs": [
    {
     "name": "stdout",
     "output_type": "stream",
     "text": [
      "+--------------------+------------------+\n",
      "|                NAME|  AVG_WND_SPEED_MS|\n",
      "+--------------------+------------------+\n",
      "|  VESTMANNAEYJAR, IC|            11.555|\n",
      "| CAMPBELL ISLAND, NZ|10.924466571835005|\n",
      "|    GRAN CANARIA, SP|10.658823529411762|\n",
      "|       LANZAROTE, SP|10.207692307692309|\n",
      "|AMCHITKA ISLAND, ...| 10.05585070611949|\n",
      "|MOUNT LAGUNA CAA ...|  9.96358447488591|\n",
      "|FELDBERG SCHWARZW...|   9.5155817174515|\n",
      "|LUDERITZ DIAZ POI...| 9.252941176470593|\n",
      "|PINE SPRINGS GUAD...| 8.779119561493236|\n",
      "|   ILE AMSTERDAM, FS| 8.772727272727295|\n",
      "|        WALES, AK US| 8.759103385178399|\n",
      "|   MARION ISLAND, SF|  8.67556008146638|\n",
      "|           MATUA, RS| 8.636529680365339|\n",
      "|    ARGENTIA AUT, CA| 8.558078552616378|\n",
      "|       CASPER, WY US|  8.35883822610875|\n",
      "|           ASSAB, ER| 8.353956834532378|\n",
      "|  BUHTA GAVRIILA, RS| 8.194366197183165|\n",
      "|   CAPE CAMPBELL, NZ| 8.194150417827288|\n",
      "|       MOGADISHU, SO| 8.189841269841274|\n",
      "|       KANIN NOS, RS| 8.145466155810983|\n",
      "+--------------------+------------------+\n",
      "only showing top 20 rows\n",
      "\n"
     ]
    }
   ],
   "source": [
    "# .agg(), .orderby()  -- where is the avg most windy place?\n",
    "\n",
    "most_windy = data_frame_with_wnd_speed.groupby('NAME')\\\n",
    "    .agg({'WND_SPEED_MS': 'mean'})\\\n",
    "    .orderBy('avg(WND_SPEED_MS)', ascending=False)\\\n",
    "\n",
    "# Rename a column\n",
    "most_windy = most_windy.withColumnRenamed('avg(WND_SPEED_MS)','AVG_WND_SPEED_MS')\n",
    "    \n",
    "most_windy.show()"
   ]
  },
  {
   "cell_type": "code",
   "execution_count": 18,
   "metadata": {},
   "outputs": [],
   "source": [
    "most_windy.limit(20).write.format('csv').save('hdfs://192.168.1.19:9000/weather-output.csv')"
   ]
  },
  {
   "cell_type": "code",
   "execution_count": null,
   "metadata": {},
   "outputs": [],
   "source": [
    "# output CSV as ~200 files.\n",
    "# most_windy.write.format('csv').save('/mnt/nfs/ben-spark-master/teaching/noaa/output-all.csv')"
   ]
  }
 ],
 "metadata": {
  "kernelspec": {
   "display_name": "Python 3",
   "language": "python",
   "name": "python3"
  },
  "language_info": {
   "codemirror_mode": {
    "name": "ipython",
    "version": 3
   },
   "file_extension": ".py",
   "mimetype": "text/x-python",
   "name": "python",
   "nbconvert_exporter": "python",
   "pygments_lexer": "ipython3",
   "version": "3.6.7"
  }
 },
 "nbformat": 4,
 "nbformat_minor": 2
}
